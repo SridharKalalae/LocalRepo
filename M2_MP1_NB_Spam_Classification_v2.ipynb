{
  "nbformat": 4,
  "nbformat_minor": 0,
  "metadata": {
    "colab": {
      "provenance": [],
      "gpuType": "T4",
      "include_colab_link": true
    },
    "kernelspec": {
      "name": "python3",
      "display_name": "Python 3"
    },
    "language_info": {
      "name": "python"
    },
    "accelerator": "GPU"
  },
  "cells": [
    {
      "cell_type": "markdown",
      "metadata": {
        "id": "view-in-github",
        "colab_type": "text"
      },
      "source": [
        "<a href=\"https://colab.research.google.com/github/SridharKalalae/LocalRepo/blob/main/M2_MP1_NB_Spam_Classification_v2.ipynb\" target=\"_parent\"><img src=\"https://colab.research.google.com/assets/colab-badge.svg\" alt=\"Open In Colab\"/></a>"
      ]
    },
    {
      "cell_type": "markdown",
      "metadata": {
        "id": "associate-sunset"
      },
      "source": [
        "# Generative AI and Prompt Engineering\n",
        "## A program by IISc and TalentSprint\n",
        "### Mini-Project: Spam Classification"
      ]
    },
    {
      "cell_type": "markdown",
      "metadata": {
        "id": "handled-tooth"
      },
      "source": [
        "## Problem Statement"
      ]
    },
    {
      "cell_type": "markdown",
      "metadata": {
        "id": "accessory-watts"
      },
      "source": [
        "Generating a prompt / prompts using no code based LLMs to solve a text classification problem.\n",
        "\n",
        "Dataset: Spam / ham classification"
      ]
    },
    {
      "cell_type": "markdown",
      "metadata": {
        "id": "twenty-indonesia"
      },
      "source": [
        "## Learning Objectives"
      ]
    },
    {
      "cell_type": "markdown",
      "metadata": {
        "id": "1ZGAsPzQAU-X"
      },
      "source": [
        "At the end of the mini-project, you will be able to :\n",
        "\n",
        "* Understand how to successfuly generate code using LLMs\n",
        "\n",
        "* Following sections will help you understand the various steps required for text classification:\n",
        "  * Create text vectorization layer.\n",
        "  * Create embeddings of words in the message.\n",
        "  * Visualize the different categories of words.\n",
        "  * Build a model to classify the messages as Spam or Ham.\n",
        "  * Get the evaluation score of the model."
      ]
    },
    {
      "cell_type": "code",
      "source": [
        "from google.colab import drive\n",
        "drive.mount('/content/drive')"
      ],
      "metadata": {
        "id": "WymQukB4CHGs",
        "outputId": "1e08b534-2196-40e6-f29e-f39a030273b3",
        "colab": {
          "base_uri": "https://localhost:8080/"
        }
      },
      "execution_count": null,
      "outputs": [
        {
          "output_type": "stream",
          "name": "stdout",
          "text": [
            "Mounted at /content/drive\n"
          ]
        }
      ]
    },
    {
      "cell_type": "markdown",
      "source": [
        "## Dataset"
      ],
      "metadata": {
        "id": "4_YKaMbBfk6h"
      }
    },
    {
      "cell_type": "markdown",
      "source": [
        "The SMS Spam Collection is a set of SMS tagged messages that have been collected for SMS Spam research. It contains one set of SMS messages in English of 5,574 messages, tagged acording being ham (legitimate) or spam.\n",
        "\n",
        "Link: https://www.kaggle.com/datasets/uciml/sms-spam-collection-dataset"
      ],
      "metadata": {
        "id": "6iernY8-fuR4"
      }
    },
    {
      "cell_type": "markdown",
      "source": [
        "## Instructions"
      ],
      "metadata": {
        "id": "fy0Hb3T4lOOl"
      }
    },
    {
      "cell_type": "markdown",
      "source": [
        "* Use the SMS Spam collection dataset.\n",
        "* Based on your understanding of steps required to do text classification from previous assignments, generate the code using LLM to accomplish the task.\n",
        "* There is no restriction on the number of prompts or choice of LLM.\n",
        "* Do not use a pretrained model.\n",
        "* Use any LLM to pass prompts and generate code from it.\n",
        "* All the sections are to be solved by making use of prompts.\n",
        "* Feel free to add/delete ccode cells as you may require.\n",
        "* Use any number of code cells/prompts to solve any particular section."
      ],
      "metadata": {
        "id": "mwXEcGZXlQLB"
      }
    },
    {
      "cell_type": "markdown",
      "source": [
        "## Parameters of evaluations"
      ],
      "metadata": {
        "id": "JCCtUxPBmkPQ"
      }
    },
    {
      "cell_type": "markdown",
      "source": [
        "* Accuracy on Test data set\n",
        "* Choice of preprocessing steps\n",
        "* Model Architecture\n",
        "* Design parameters choice\n",
        "* Number of experiments conducted\n",
        "* Parameter tuning\n",
        "* Visualizations\n",
        "  * Train validation loss & other metrics\n",
        "  * Word clouds of words in each category\n",
        "  * Embeddings visualizations\n"
      ],
      "metadata": {
        "id": "2G6t-PFrmo3q"
      }
    },
    {
      "cell_type": "markdown",
      "source": [
        "## **HINT**"
      ],
      "metadata": {
        "id": "NHm87x6Gp5wD"
      }
    },
    {
      "cell_type": "markdown",
      "source": [
        "Please take hints from the assignment released in module 1, **[M1_AST_02_TextVectorization_and_Embedding_Layers](https://drive.google.com/drive/folders/17J8eaehDycpqypduEcmUyubyXlFr-gD2?usp=drive_link)**"
      ],
      "metadata": {
        "id": "_OCU-8nmqHI2"
      }
    },
    {
      "cell_type": "markdown",
      "metadata": {
        "id": "operating-latter"
      },
      "source": [
        "## Grading = 10 Points"
      ]
    },
    {
      "cell_type": "markdown",
      "metadata": {
        "id": "appreciated-pattern"
      },
      "source": [
        "### Import Neccesary Packages"
      ]
    },
    {
      "cell_type": "code",
      "source": [
        "# Initial Packages\n",
        "import numpy as np\n",
        "import pandas as pd\n",
        "import matplotlib.pyplot as plt\n",
        "\n",
        "import tensorflow as tf\n",
        "from tensorflow import keras\n",
        "from tensorflow.keras import layers, Model, callbacks\n",
        "from tensorflow.keras.layers import TextVectorization, Embedding, Dense\n",
        "\n",
        "from sklearn.decomposition import PCA\n",
        "\n",
        "import re\n",
        "import nltk\n",
        "from nltk.tokenize import word_tokenize,TweetTokenizer"
      ],
      "metadata": {
        "id": "4QeJbiAu1N9f"
      },
      "execution_count": null,
      "outputs": []
    },
    {
      "cell_type": "markdown",
      "source": [
        "### Read the Data (1 point)"
      ],
      "metadata": {
        "id": "bHcqwrJwlFTv"
      }
    },
    {
      "cell_type": "code",
      "source": [
        "df = pd.read_csv(r'/content/drive/MyDrive/AI Datasets/Miniproject/spam.csv', encoding = 'latin-1')"
      ],
      "metadata": {
        "id": "rmgzeIgH1SQL"
      },
      "execution_count": null,
      "outputs": []
    },
    {
      "cell_type": "code",
      "source": [
        "df.head()"
      ],
      "metadata": {
        "id": "ELiq9iuRHUju",
        "outputId": "5bff9651-e819-49b8-a4fa-1198f3d4315c",
        "colab": {
          "base_uri": "https://localhost:8080/",
          "height": 206
        }
      },
      "execution_count": null,
      "outputs": [
        {
          "output_type": "execute_result",
          "data": {
            "text/plain": [
              "     v1                                                 v2 Unnamed: 2  \\\n",
              "0   ham  Go until jurong point, crazy.. Available only ...        NaN   \n",
              "1   ham                      Ok lar... Joking wif u oni...        NaN   \n",
              "2  spam  Free entry in 2 a wkly comp to win FA Cup fina...        NaN   \n",
              "3   ham  U dun say so early hor... U c already then say...        NaN   \n",
              "4   ham  Nah I don't think he goes to usf, he lives aro...        NaN   \n",
              "\n",
              "  Unnamed: 3 Unnamed: 4  \n",
              "0        NaN        NaN  \n",
              "1        NaN        NaN  \n",
              "2        NaN        NaN  \n",
              "3        NaN        NaN  \n",
              "4        NaN        NaN  "
            ],
            "text/html": [
              "\n",
              "  <div id=\"df-b2ae2883-0c48-43a5-8c90-0ada4902ffa2\" class=\"colab-df-container\">\n",
              "    <div>\n",
              "<style scoped>\n",
              "    .dataframe tbody tr th:only-of-type {\n",
              "        vertical-align: middle;\n",
              "    }\n",
              "\n",
              "    .dataframe tbody tr th {\n",
              "        vertical-align: top;\n",
              "    }\n",
              "\n",
              "    .dataframe thead th {\n",
              "        text-align: right;\n",
              "    }\n",
              "</style>\n",
              "<table border=\"1\" class=\"dataframe\">\n",
              "  <thead>\n",
              "    <tr style=\"text-align: right;\">\n",
              "      <th></th>\n",
              "      <th>v1</th>\n",
              "      <th>v2</th>\n",
              "      <th>Unnamed: 2</th>\n",
              "      <th>Unnamed: 3</th>\n",
              "      <th>Unnamed: 4</th>\n",
              "    </tr>\n",
              "  </thead>\n",
              "  <tbody>\n",
              "    <tr>\n",
              "      <th>0</th>\n",
              "      <td>ham</td>\n",
              "      <td>Go until jurong point, crazy.. Available only ...</td>\n",
              "      <td>NaN</td>\n",
              "      <td>NaN</td>\n",
              "      <td>NaN</td>\n",
              "    </tr>\n",
              "    <tr>\n",
              "      <th>1</th>\n",
              "      <td>ham</td>\n",
              "      <td>Ok lar... Joking wif u oni...</td>\n",
              "      <td>NaN</td>\n",
              "      <td>NaN</td>\n",
              "      <td>NaN</td>\n",
              "    </tr>\n",
              "    <tr>\n",
              "      <th>2</th>\n",
              "      <td>spam</td>\n",
              "      <td>Free entry in 2 a wkly comp to win FA Cup fina...</td>\n",
              "      <td>NaN</td>\n",
              "      <td>NaN</td>\n",
              "      <td>NaN</td>\n",
              "    </tr>\n",
              "    <tr>\n",
              "      <th>3</th>\n",
              "      <td>ham</td>\n",
              "      <td>U dun say so early hor... U c already then say...</td>\n",
              "      <td>NaN</td>\n",
              "      <td>NaN</td>\n",
              "      <td>NaN</td>\n",
              "    </tr>\n",
              "    <tr>\n",
              "      <th>4</th>\n",
              "      <td>ham</td>\n",
              "      <td>Nah I don't think he goes to usf, he lives aro...</td>\n",
              "      <td>NaN</td>\n",
              "      <td>NaN</td>\n",
              "      <td>NaN</td>\n",
              "    </tr>\n",
              "  </tbody>\n",
              "</table>\n",
              "</div>\n",
              "    <div class=\"colab-df-buttons\">\n",
              "\n",
              "  <div class=\"colab-df-container\">\n",
              "    <button class=\"colab-df-convert\" onclick=\"convertToInteractive('df-b2ae2883-0c48-43a5-8c90-0ada4902ffa2')\"\n",
              "            title=\"Convert this dataframe to an interactive table.\"\n",
              "            style=\"display:none;\">\n",
              "\n",
              "  <svg xmlns=\"http://www.w3.org/2000/svg\" height=\"24px\" viewBox=\"0 -960 960 960\">\n",
              "    <path d=\"M120-120v-720h720v720H120Zm60-500h600v-160H180v160Zm220 220h160v-160H400v160Zm0 220h160v-160H400v160ZM180-400h160v-160H180v160Zm440 0h160v-160H620v160ZM180-180h160v-160H180v160Zm440 0h160v-160H620v160Z\"/>\n",
              "  </svg>\n",
              "    </button>\n",
              "\n",
              "  <style>\n",
              "    .colab-df-container {\n",
              "      display:flex;\n",
              "      gap: 12px;\n",
              "    }\n",
              "\n",
              "    .colab-df-convert {\n",
              "      background-color: #E8F0FE;\n",
              "      border: none;\n",
              "      border-radius: 50%;\n",
              "      cursor: pointer;\n",
              "      display: none;\n",
              "      fill: #1967D2;\n",
              "      height: 32px;\n",
              "      padding: 0 0 0 0;\n",
              "      width: 32px;\n",
              "    }\n",
              "\n",
              "    .colab-df-convert:hover {\n",
              "      background-color: #E2EBFA;\n",
              "      box-shadow: 0px 1px 2px rgba(60, 64, 67, 0.3), 0px 1px 3px 1px rgba(60, 64, 67, 0.15);\n",
              "      fill: #174EA6;\n",
              "    }\n",
              "\n",
              "    .colab-df-buttons div {\n",
              "      margin-bottom: 4px;\n",
              "    }\n",
              "\n",
              "    [theme=dark] .colab-df-convert {\n",
              "      background-color: #3B4455;\n",
              "      fill: #D2E3FC;\n",
              "    }\n",
              "\n",
              "    [theme=dark] .colab-df-convert:hover {\n",
              "      background-color: #434B5C;\n",
              "      box-shadow: 0px 1px 3px 1px rgba(0, 0, 0, 0.15);\n",
              "      filter: drop-shadow(0px 1px 2px rgba(0, 0, 0, 0.3));\n",
              "      fill: #FFFFFF;\n",
              "    }\n",
              "  </style>\n",
              "\n",
              "    <script>\n",
              "      const buttonEl =\n",
              "        document.querySelector('#df-b2ae2883-0c48-43a5-8c90-0ada4902ffa2 button.colab-df-convert');\n",
              "      buttonEl.style.display =\n",
              "        google.colab.kernel.accessAllowed ? 'block' : 'none';\n",
              "\n",
              "      async function convertToInteractive(key) {\n",
              "        const element = document.querySelector('#df-b2ae2883-0c48-43a5-8c90-0ada4902ffa2');\n",
              "        const dataTable =\n",
              "          await google.colab.kernel.invokeFunction('convertToInteractive',\n",
              "                                                    [key], {});\n",
              "        if (!dataTable) return;\n",
              "\n",
              "        const docLinkHtml = 'Like what you see? Visit the ' +\n",
              "          '<a target=\"_blank\" href=https://colab.research.google.com/notebooks/data_table.ipynb>data table notebook</a>'\n",
              "          + ' to learn more about interactive tables.';\n",
              "        element.innerHTML = '';\n",
              "        dataTable['output_type'] = 'display_data';\n",
              "        await google.colab.output.renderOutput(dataTable, element);\n",
              "        const docLink = document.createElement('div');\n",
              "        docLink.innerHTML = docLinkHtml;\n",
              "        element.appendChild(docLink);\n",
              "      }\n",
              "    </script>\n",
              "  </div>\n",
              "\n",
              "\n",
              "<div id=\"df-8bd85f49-c667-4ce2-af7f-a5ea5adc59fb\">\n",
              "  <button class=\"colab-df-quickchart\" onclick=\"quickchart('df-8bd85f49-c667-4ce2-af7f-a5ea5adc59fb')\"\n",
              "            title=\"Suggest charts\"\n",
              "            style=\"display:none;\">\n",
              "\n",
              "<svg xmlns=\"http://www.w3.org/2000/svg\" height=\"24px\"viewBox=\"0 0 24 24\"\n",
              "     width=\"24px\">\n",
              "    <g>\n",
              "        <path d=\"M19 3H5c-1.1 0-2 .9-2 2v14c0 1.1.9 2 2 2h14c1.1 0 2-.9 2-2V5c0-1.1-.9-2-2-2zM9 17H7v-7h2v7zm4 0h-2V7h2v10zm4 0h-2v-4h2v4z\"/>\n",
              "    </g>\n",
              "</svg>\n",
              "  </button>\n",
              "\n",
              "<style>\n",
              "  .colab-df-quickchart {\n",
              "      --bg-color: #E8F0FE;\n",
              "      --fill-color: #1967D2;\n",
              "      --hover-bg-color: #E2EBFA;\n",
              "      --hover-fill-color: #174EA6;\n",
              "      --disabled-fill-color: #AAA;\n",
              "      --disabled-bg-color: #DDD;\n",
              "  }\n",
              "\n",
              "  [theme=dark] .colab-df-quickchart {\n",
              "      --bg-color: #3B4455;\n",
              "      --fill-color: #D2E3FC;\n",
              "      --hover-bg-color: #434B5C;\n",
              "      --hover-fill-color: #FFFFFF;\n",
              "      --disabled-bg-color: #3B4455;\n",
              "      --disabled-fill-color: #666;\n",
              "  }\n",
              "\n",
              "  .colab-df-quickchart {\n",
              "    background-color: var(--bg-color);\n",
              "    border: none;\n",
              "    border-radius: 50%;\n",
              "    cursor: pointer;\n",
              "    display: none;\n",
              "    fill: var(--fill-color);\n",
              "    height: 32px;\n",
              "    padding: 0;\n",
              "    width: 32px;\n",
              "  }\n",
              "\n",
              "  .colab-df-quickchart:hover {\n",
              "    background-color: var(--hover-bg-color);\n",
              "    box-shadow: 0 1px 2px rgba(60, 64, 67, 0.3), 0 1px 3px 1px rgba(60, 64, 67, 0.15);\n",
              "    fill: var(--button-hover-fill-color);\n",
              "  }\n",
              "\n",
              "  .colab-df-quickchart-complete:disabled,\n",
              "  .colab-df-quickchart-complete:disabled:hover {\n",
              "    background-color: var(--disabled-bg-color);\n",
              "    fill: var(--disabled-fill-color);\n",
              "    box-shadow: none;\n",
              "  }\n",
              "\n",
              "  .colab-df-spinner {\n",
              "    border: 2px solid var(--fill-color);\n",
              "    border-color: transparent;\n",
              "    border-bottom-color: var(--fill-color);\n",
              "    animation:\n",
              "      spin 1s steps(1) infinite;\n",
              "  }\n",
              "\n",
              "  @keyframes spin {\n",
              "    0% {\n",
              "      border-color: transparent;\n",
              "      border-bottom-color: var(--fill-color);\n",
              "      border-left-color: var(--fill-color);\n",
              "    }\n",
              "    20% {\n",
              "      border-color: transparent;\n",
              "      border-left-color: var(--fill-color);\n",
              "      border-top-color: var(--fill-color);\n",
              "    }\n",
              "    30% {\n",
              "      border-color: transparent;\n",
              "      border-left-color: var(--fill-color);\n",
              "      border-top-color: var(--fill-color);\n",
              "      border-right-color: var(--fill-color);\n",
              "    }\n",
              "    40% {\n",
              "      border-color: transparent;\n",
              "      border-right-color: var(--fill-color);\n",
              "      border-top-color: var(--fill-color);\n",
              "    }\n",
              "    60% {\n",
              "      border-color: transparent;\n",
              "      border-right-color: var(--fill-color);\n",
              "    }\n",
              "    80% {\n",
              "      border-color: transparent;\n",
              "      border-right-color: var(--fill-color);\n",
              "      border-bottom-color: var(--fill-color);\n",
              "    }\n",
              "    90% {\n",
              "      border-color: transparent;\n",
              "      border-bottom-color: var(--fill-color);\n",
              "    }\n",
              "  }\n",
              "</style>\n",
              "\n",
              "  <script>\n",
              "    async function quickchart(key) {\n",
              "      const quickchartButtonEl =\n",
              "        document.querySelector('#' + key + ' button');\n",
              "      quickchartButtonEl.disabled = true;  // To prevent multiple clicks.\n",
              "      quickchartButtonEl.classList.add('colab-df-spinner');\n",
              "      try {\n",
              "        const charts = await google.colab.kernel.invokeFunction(\n",
              "            'suggestCharts', [key], {});\n",
              "      } catch (error) {\n",
              "        console.error('Error during call to suggestCharts:', error);\n",
              "      }\n",
              "      quickchartButtonEl.classList.remove('colab-df-spinner');\n",
              "      quickchartButtonEl.classList.add('colab-df-quickchart-complete');\n",
              "    }\n",
              "    (() => {\n",
              "      let quickchartButtonEl =\n",
              "        document.querySelector('#df-8bd85f49-c667-4ce2-af7f-a5ea5adc59fb button');\n",
              "      quickchartButtonEl.style.display =\n",
              "        google.colab.kernel.accessAllowed ? 'block' : 'none';\n",
              "    })();\n",
              "  </script>\n",
              "</div>\n",
              "\n",
              "    </div>\n",
              "  </div>\n"
            ],
            "application/vnd.google.colaboratory.intrinsic+json": {
              "type": "dataframe",
              "variable_name": "df",
              "summary": "{\n  \"name\": \"df\",\n  \"rows\": 5572,\n  \"fields\": [\n    {\n      \"column\": \"v1\",\n      \"properties\": {\n        \"dtype\": \"category\",\n        \"num_unique_values\": 2,\n        \"samples\": [\n          \"spam\",\n          \"ham\"\n        ],\n        \"semantic_type\": \"\",\n        \"description\": \"\"\n      }\n    },\n    {\n      \"column\": \"v2\",\n      \"properties\": {\n        \"dtype\": \"string\",\n        \"num_unique_values\": 5169,\n        \"samples\": [\n          \"Did u download the fring app?\",\n          \"Pass dis to all ur contacts n see wat u get! Red;i'm in luv wid u. Blue;u put a smile on my face. Purple;u r realy hot. Pink;u r so swt. Orange;i thnk i lyk u. Green;i realy wana go out wid u. Yelow;i wnt u bck. Black;i'm jealous of u. Brown;i miss you Nw plz giv me one color\"\n        ],\n        \"semantic_type\": \"\",\n        \"description\": \"\"\n      }\n    },\n    {\n      \"column\": \"Unnamed: 2\",\n      \"properties\": {\n        \"dtype\": \"category\",\n        \"num_unique_values\": 43,\n        \"samples\": [\n          \" GOD said\",\n          \" SHE SHUDVETOLD U. DID URGRAN KNOW?NEWAY\"\n        ],\n        \"semantic_type\": \"\",\n        \"description\": \"\"\n      }\n    },\n    {\n      \"column\": \"Unnamed: 3\",\n      \"properties\": {\n        \"dtype\": \"category\",\n        \"num_unique_values\": 10,\n        \"samples\": [\n          \" \\\\\\\"OH No! COMPETITION\\\\\\\". Who knew\",\n          \" why to miss them\"\n        ],\n        \"semantic_type\": \"\",\n        \"description\": \"\"\n      }\n    },\n    {\n      \"column\": \"Unnamed: 4\",\n      \"properties\": {\n        \"dtype\": \"category\",\n        \"num_unique_values\": 5,\n        \"samples\": [\n          \"GNT:-)\\\"\",\n          \" one day these two will become FREINDS FOREVER!\\\"\"\n        ],\n        \"semantic_type\": \"\",\n        \"description\": \"\"\n      }\n    }\n  ]\n}"
            }
          },
          "metadata": {},
          "execution_count": 4
        }
      ]
    },
    {
      "cell_type": "code",
      "source": [
        "df.drop(columns=['Unnamed: 2', 'Unnamed: 3', 'Unnamed: 4'], inplace=True)"
      ],
      "metadata": {
        "id": "NDpWZEoEHfTN"
      },
      "execution_count": null,
      "outputs": []
    },
    {
      "cell_type": "code",
      "source": [
        "df.columns = ['label', 'text']"
      ],
      "metadata": {
        "id": "lZFu5FaSsTDg"
      },
      "execution_count": null,
      "outputs": []
    },
    {
      "cell_type": "code",
      "source": [
        "df.shape"
      ],
      "metadata": {
        "id": "bS1IDZ8RI8bV",
        "outputId": "9f94e431-6196-4df2-fab7-b0abb8849882",
        "colab": {
          "base_uri": "https://localhost:8080/"
        }
      },
      "execution_count": null,
      "outputs": [
        {
          "output_type": "execute_result",
          "data": {
            "text/plain": [
              "(5572, 2)"
            ]
          },
          "metadata": {},
          "execution_count": 7
        }
      ]
    },
    {
      "cell_type": "code",
      "source": [
        "df.info()"
      ],
      "metadata": {
        "id": "eQOo8DseJBCn",
        "outputId": "b04f09ae-e140-47eb-f592-9accc335ee6d",
        "colab": {
          "base_uri": "https://localhost:8080/"
        }
      },
      "execution_count": null,
      "outputs": [
        {
          "output_type": "stream",
          "name": "stdout",
          "text": [
            "<class 'pandas.core.frame.DataFrame'>\n",
            "RangeIndex: 5572 entries, 0 to 5571\n",
            "Data columns (total 2 columns):\n",
            " #   Column  Non-Null Count  Dtype \n",
            "---  ------  --------------  ----- \n",
            " 0   label   5572 non-null   object\n",
            " 1   text    5572 non-null   object\n",
            "dtypes: object(2)\n",
            "memory usage: 87.2+ KB\n"
          ]
        }
      ]
    },
    {
      "cell_type": "code",
      "source": [
        "print(df.label.value_counts(normalize=True))"
      ],
      "metadata": {
        "colab": {
          "base_uri": "https://localhost:8080/"
        },
        "id": "B-4VnRR447ud",
        "outputId": "77131972-9dc9-43d8-e20e-dc061cc21bc9"
      },
      "execution_count": null,
      "outputs": [
        {
          "output_type": "stream",
          "name": "stdout",
          "text": [
            "label\n",
            "ham     0.865937\n",
            "spam    0.134063\n",
            "Name: proportion, dtype: float64\n"
          ]
        }
      ]
    },
    {
      "cell_type": "code",
      "source": [
        "df = pd.concat([df[['text']], pd.get_dummies(df[['label']],drop_first=True,dtype=int)], axis=1)"
      ],
      "metadata": {
        "id": "zdf9iOJ9khGF"
      },
      "execution_count": null,
      "outputs": []
    },
    {
      "cell_type": "code",
      "source": [
        "df.head()"
      ],
      "metadata": {
        "colab": {
          "base_uri": "https://localhost:8080/",
          "height": 206
        },
        "id": "kUtQI4pnk7Nt",
        "outputId": "75278443-1cea-4eae-d0bd-97c7bd1ca696"
      },
      "execution_count": null,
      "outputs": [
        {
          "output_type": "execute_result",
          "data": {
            "text/plain": [
              "                                                text  label_spam\n",
              "0  Go until jurong point, crazy.. Available only ...           0\n",
              "1                      Ok lar... Joking wif u oni...           0\n",
              "2  Free entry in 2 a wkly comp to win FA Cup fina...           1\n",
              "3  U dun say so early hor... U c already then say...           0\n",
              "4  Nah I don't think he goes to usf, he lives aro...           0"
            ],
            "text/html": [
              "\n",
              "  <div id=\"df-d339cdc1-ec75-442c-9e6f-0ac33583b884\" class=\"colab-df-container\">\n",
              "    <div>\n",
              "<style scoped>\n",
              "    .dataframe tbody tr th:only-of-type {\n",
              "        vertical-align: middle;\n",
              "    }\n",
              "\n",
              "    .dataframe tbody tr th {\n",
              "        vertical-align: top;\n",
              "    }\n",
              "\n",
              "    .dataframe thead th {\n",
              "        text-align: right;\n",
              "    }\n",
              "</style>\n",
              "<table border=\"1\" class=\"dataframe\">\n",
              "  <thead>\n",
              "    <tr style=\"text-align: right;\">\n",
              "      <th></th>\n",
              "      <th>text</th>\n",
              "      <th>label_spam</th>\n",
              "    </tr>\n",
              "  </thead>\n",
              "  <tbody>\n",
              "    <tr>\n",
              "      <th>0</th>\n",
              "      <td>Go until jurong point, crazy.. Available only ...</td>\n",
              "      <td>0</td>\n",
              "    </tr>\n",
              "    <tr>\n",
              "      <th>1</th>\n",
              "      <td>Ok lar... Joking wif u oni...</td>\n",
              "      <td>0</td>\n",
              "    </tr>\n",
              "    <tr>\n",
              "      <th>2</th>\n",
              "      <td>Free entry in 2 a wkly comp to win FA Cup fina...</td>\n",
              "      <td>1</td>\n",
              "    </tr>\n",
              "    <tr>\n",
              "      <th>3</th>\n",
              "      <td>U dun say so early hor... U c already then say...</td>\n",
              "      <td>0</td>\n",
              "    </tr>\n",
              "    <tr>\n",
              "      <th>4</th>\n",
              "      <td>Nah I don't think he goes to usf, he lives aro...</td>\n",
              "      <td>0</td>\n",
              "    </tr>\n",
              "  </tbody>\n",
              "</table>\n",
              "</div>\n",
              "    <div class=\"colab-df-buttons\">\n",
              "\n",
              "  <div class=\"colab-df-container\">\n",
              "    <button class=\"colab-df-convert\" onclick=\"convertToInteractive('df-d339cdc1-ec75-442c-9e6f-0ac33583b884')\"\n",
              "            title=\"Convert this dataframe to an interactive table.\"\n",
              "            style=\"display:none;\">\n",
              "\n",
              "  <svg xmlns=\"http://www.w3.org/2000/svg\" height=\"24px\" viewBox=\"0 -960 960 960\">\n",
              "    <path d=\"M120-120v-720h720v720H120Zm60-500h600v-160H180v160Zm220 220h160v-160H400v160Zm0 220h160v-160H400v160ZM180-400h160v-160H180v160Zm440 0h160v-160H620v160ZM180-180h160v-160H180v160Zm440 0h160v-160H620v160Z\"/>\n",
              "  </svg>\n",
              "    </button>\n",
              "\n",
              "  <style>\n",
              "    .colab-df-container {\n",
              "      display:flex;\n",
              "      gap: 12px;\n",
              "    }\n",
              "\n",
              "    .colab-df-convert {\n",
              "      background-color: #E8F0FE;\n",
              "      border: none;\n",
              "      border-radius: 50%;\n",
              "      cursor: pointer;\n",
              "      display: none;\n",
              "      fill: #1967D2;\n",
              "      height: 32px;\n",
              "      padding: 0 0 0 0;\n",
              "      width: 32px;\n",
              "    }\n",
              "\n",
              "    .colab-df-convert:hover {\n",
              "      background-color: #E2EBFA;\n",
              "      box-shadow: 0px 1px 2px rgba(60, 64, 67, 0.3), 0px 1px 3px 1px rgba(60, 64, 67, 0.15);\n",
              "      fill: #174EA6;\n",
              "    }\n",
              "\n",
              "    .colab-df-buttons div {\n",
              "      margin-bottom: 4px;\n",
              "    }\n",
              "\n",
              "    [theme=dark] .colab-df-convert {\n",
              "      background-color: #3B4455;\n",
              "      fill: #D2E3FC;\n",
              "    }\n",
              "\n",
              "    [theme=dark] .colab-df-convert:hover {\n",
              "      background-color: #434B5C;\n",
              "      box-shadow: 0px 1px 3px 1px rgba(0, 0, 0, 0.15);\n",
              "      filter: drop-shadow(0px 1px 2px rgba(0, 0, 0, 0.3));\n",
              "      fill: #FFFFFF;\n",
              "    }\n",
              "  </style>\n",
              "\n",
              "    <script>\n",
              "      const buttonEl =\n",
              "        document.querySelector('#df-d339cdc1-ec75-442c-9e6f-0ac33583b884 button.colab-df-convert');\n",
              "      buttonEl.style.display =\n",
              "        google.colab.kernel.accessAllowed ? 'block' : 'none';\n",
              "\n",
              "      async function convertToInteractive(key) {\n",
              "        const element = document.querySelector('#df-d339cdc1-ec75-442c-9e6f-0ac33583b884');\n",
              "        const dataTable =\n",
              "          await google.colab.kernel.invokeFunction('convertToInteractive',\n",
              "                                                    [key], {});\n",
              "        if (!dataTable) return;\n",
              "\n",
              "        const docLinkHtml = 'Like what you see? Visit the ' +\n",
              "          '<a target=\"_blank\" href=https://colab.research.google.com/notebooks/data_table.ipynb>data table notebook</a>'\n",
              "          + ' to learn more about interactive tables.';\n",
              "        element.innerHTML = '';\n",
              "        dataTable['output_type'] = 'display_data';\n",
              "        await google.colab.output.renderOutput(dataTable, element);\n",
              "        const docLink = document.createElement('div');\n",
              "        docLink.innerHTML = docLinkHtml;\n",
              "        element.appendChild(docLink);\n",
              "      }\n",
              "    </script>\n",
              "  </div>\n",
              "\n",
              "\n",
              "<div id=\"df-e282dcb9-ce56-4eb9-bd5c-5d86bcacb54a\">\n",
              "  <button class=\"colab-df-quickchart\" onclick=\"quickchart('df-e282dcb9-ce56-4eb9-bd5c-5d86bcacb54a')\"\n",
              "            title=\"Suggest charts\"\n",
              "            style=\"display:none;\">\n",
              "\n",
              "<svg xmlns=\"http://www.w3.org/2000/svg\" height=\"24px\"viewBox=\"0 0 24 24\"\n",
              "     width=\"24px\">\n",
              "    <g>\n",
              "        <path d=\"M19 3H5c-1.1 0-2 .9-2 2v14c0 1.1.9 2 2 2h14c1.1 0 2-.9 2-2V5c0-1.1-.9-2-2-2zM9 17H7v-7h2v7zm4 0h-2V7h2v10zm4 0h-2v-4h2v4z\"/>\n",
              "    </g>\n",
              "</svg>\n",
              "  </button>\n",
              "\n",
              "<style>\n",
              "  .colab-df-quickchart {\n",
              "      --bg-color: #E8F0FE;\n",
              "      --fill-color: #1967D2;\n",
              "      --hover-bg-color: #E2EBFA;\n",
              "      --hover-fill-color: #174EA6;\n",
              "      --disabled-fill-color: #AAA;\n",
              "      --disabled-bg-color: #DDD;\n",
              "  }\n",
              "\n",
              "  [theme=dark] .colab-df-quickchart {\n",
              "      --bg-color: #3B4455;\n",
              "      --fill-color: #D2E3FC;\n",
              "      --hover-bg-color: #434B5C;\n",
              "      --hover-fill-color: #FFFFFF;\n",
              "      --disabled-bg-color: #3B4455;\n",
              "      --disabled-fill-color: #666;\n",
              "  }\n",
              "\n",
              "  .colab-df-quickchart {\n",
              "    background-color: var(--bg-color);\n",
              "    border: none;\n",
              "    border-radius: 50%;\n",
              "    cursor: pointer;\n",
              "    display: none;\n",
              "    fill: var(--fill-color);\n",
              "    height: 32px;\n",
              "    padding: 0;\n",
              "    width: 32px;\n",
              "  }\n",
              "\n",
              "  .colab-df-quickchart:hover {\n",
              "    background-color: var(--hover-bg-color);\n",
              "    box-shadow: 0 1px 2px rgba(60, 64, 67, 0.3), 0 1px 3px 1px rgba(60, 64, 67, 0.15);\n",
              "    fill: var(--button-hover-fill-color);\n",
              "  }\n",
              "\n",
              "  .colab-df-quickchart-complete:disabled,\n",
              "  .colab-df-quickchart-complete:disabled:hover {\n",
              "    background-color: var(--disabled-bg-color);\n",
              "    fill: var(--disabled-fill-color);\n",
              "    box-shadow: none;\n",
              "  }\n",
              "\n",
              "  .colab-df-spinner {\n",
              "    border: 2px solid var(--fill-color);\n",
              "    border-color: transparent;\n",
              "    border-bottom-color: var(--fill-color);\n",
              "    animation:\n",
              "      spin 1s steps(1) infinite;\n",
              "  }\n",
              "\n",
              "  @keyframes spin {\n",
              "    0% {\n",
              "      border-color: transparent;\n",
              "      border-bottom-color: var(--fill-color);\n",
              "      border-left-color: var(--fill-color);\n",
              "    }\n",
              "    20% {\n",
              "      border-color: transparent;\n",
              "      border-left-color: var(--fill-color);\n",
              "      border-top-color: var(--fill-color);\n",
              "    }\n",
              "    30% {\n",
              "      border-color: transparent;\n",
              "      border-left-color: var(--fill-color);\n",
              "      border-top-color: var(--fill-color);\n",
              "      border-right-color: var(--fill-color);\n",
              "    }\n",
              "    40% {\n",
              "      border-color: transparent;\n",
              "      border-right-color: var(--fill-color);\n",
              "      border-top-color: var(--fill-color);\n",
              "    }\n",
              "    60% {\n",
              "      border-color: transparent;\n",
              "      border-right-color: var(--fill-color);\n",
              "    }\n",
              "    80% {\n",
              "      border-color: transparent;\n",
              "      border-right-color: var(--fill-color);\n",
              "      border-bottom-color: var(--fill-color);\n",
              "    }\n",
              "    90% {\n",
              "      border-color: transparent;\n",
              "      border-bottom-color: var(--fill-color);\n",
              "    }\n",
              "  }\n",
              "</style>\n",
              "\n",
              "  <script>\n",
              "    async function quickchart(key) {\n",
              "      const quickchartButtonEl =\n",
              "        document.querySelector('#' + key + ' button');\n",
              "      quickchartButtonEl.disabled = true;  // To prevent multiple clicks.\n",
              "      quickchartButtonEl.classList.add('colab-df-spinner');\n",
              "      try {\n",
              "        const charts = await google.colab.kernel.invokeFunction(\n",
              "            'suggestCharts', [key], {});\n",
              "      } catch (error) {\n",
              "        console.error('Error during call to suggestCharts:', error);\n",
              "      }\n",
              "      quickchartButtonEl.classList.remove('colab-df-spinner');\n",
              "      quickchartButtonEl.classList.add('colab-df-quickchart-complete');\n",
              "    }\n",
              "    (() => {\n",
              "      let quickchartButtonEl =\n",
              "        document.querySelector('#df-e282dcb9-ce56-4eb9-bd5c-5d86bcacb54a button');\n",
              "      quickchartButtonEl.style.display =\n",
              "        google.colab.kernel.accessAllowed ? 'block' : 'none';\n",
              "    })();\n",
              "  </script>\n",
              "</div>\n",
              "\n",
              "    </div>\n",
              "  </div>\n"
            ],
            "application/vnd.google.colaboratory.intrinsic+json": {
              "type": "dataframe",
              "variable_name": "df",
              "summary": "{\n  \"name\": \"df\",\n  \"rows\": 5572,\n  \"fields\": [\n    {\n      \"column\": \"text\",\n      \"properties\": {\n        \"dtype\": \"string\",\n        \"num_unique_values\": 5169,\n        \"samples\": [\n          \"Did u download the fring app?\",\n          \"Pass dis to all ur contacts n see wat u get! Red;i'm in luv wid u. Blue;u put a smile on my face. Purple;u r realy hot. Pink;u r so swt. Orange;i thnk i lyk u. Green;i realy wana go out wid u. Yelow;i wnt u bck. Black;i'm jealous of u. Brown;i miss you Nw plz giv me one color\",\n          \"Ok...\"\n        ],\n        \"semantic_type\": \"\",\n        \"description\": \"\"\n      }\n    },\n    {\n      \"column\": \"label_spam\",\n      \"properties\": {\n        \"dtype\": \"number\",\n        \"std\": 0,\n        \"min\": 0,\n        \"max\": 1,\n        \"num_unique_values\": 2,\n        \"samples\": [\n          1,\n          0\n        ],\n        \"semantic_type\": \"\",\n        \"description\": \"\"\n      }\n    }\n  ]\n}"
            }
          },
          "metadata": {},
          "execution_count": 11
        }
      ]
    },
    {
      "cell_type": "code",
      "source": [
        "df_train = df[:4000]\n",
        "df_val = df[4000:4572]\n",
        "df_test = df[4572:5572]"
      ],
      "metadata": {
        "id": "BePJo-ZbsoR9"
      },
      "execution_count": null,
      "outputs": []
    },
    {
      "cell_type": "code",
      "source": [
        "X_train, y_train = df_train['text'], df_train['label_spam']\n",
        "X_val, y_val = df_val['text'], df_val['label_spam']\n",
        "X_test, y_test = df_test['text'], df_test['label_spam']"
      ],
      "metadata": {
        "id": "4w2eHWppvaKk"
      },
      "execution_count": null,
      "outputs": []
    },
    {
      "cell_type": "code",
      "source": [
        "print(f'Train Data shape : {X_train.shape, y_train.shape}')\n",
        "print(f'Validation Data shape : {X_val.shape, y_val.shape}')\n",
        "print(f'Test Data shape : {X_test.shape, y_test.shape}')"
      ],
      "metadata": {
        "colab": {
          "base_uri": "https://localhost:8080/"
        },
        "id": "Bk50M7tiv-Lf",
        "outputId": "4f62a490-f5f5-450d-f459-321cbc5b2ef4"
      },
      "execution_count": null,
      "outputs": [
        {
          "output_type": "stream",
          "name": "stdout",
          "text": [
            "Train Data shape : ((4000,), (4000,))\n",
            "Validation Data shape : ((572,), (572,))\n",
            "Test Data shape : ((1000,), (1000,))\n"
          ]
        }
      ]
    },
    {
      "cell_type": "markdown",
      "source": [
        "### Apply the Vectorization (1 point)"
      ],
      "metadata": {
        "id": "hvHv0ry1oxGg"
      }
    },
    {
      "cell_type": "code",
      "source": [
        "max_length = 1000\n",
        "max_tokens = 7900\n",
        "\n",
        "text_vectorization = TextVectorization(\n",
        "    output_mode = 'int',\n",
        "    max_tokens = max_tokens,\n",
        "    output_sequence_length = max_length\n",
        ")"
      ],
      "metadata": {
        "id": "KBKajTtLoyTz"
      },
      "execution_count": null,
      "outputs": []
    },
    {
      "cell_type": "code",
      "source": [
        "text_vectorization.adapt(X_train)"
      ],
      "metadata": {
        "id": "Ewb50wB_3OLo"
      },
      "execution_count": null,
      "outputs": []
    },
    {
      "cell_type": "code",
      "source": [
        "vocabulary = text_vectorization.get_vocabulary()\n",
        "print(f\"vocabulary = {vocabulary}\")\n",
        "print(f\"len(vocabulary) = {len(vocabulary)}\")"
      ],
      "metadata": {
        "colab": {
          "base_uri": "https://localhost:8080/"
        },
        "id": "RQqeb3xy6bTh",
        "outputId": "f8809436-bf5f-4a38-ce81-614fe92b2e01"
      },
      "execution_count": null,
      "outputs": [
        {
          "output_type": "stream",
          "name": "stdout",
          "text": [
            "vocabulary = ['', '[UNK]', 'to', 'i', 'you', 'a', 'the', 'u', 'and', 'is', 'in', 'me', 'my', 'for', 'your', 'of', 'it', 'have', 'call', 'on', 'that', 'are', 'now', '2', 'not', 'im', 'but', 'so', 'at', 'or', 'can', 'be', 'get', 'do', 'ur', 'will', 'with', 'just', 'if', 'we', 'no', 'this', 'up', 'when', 'its', 'ltgt', 'ok', 'dont', 'out', 'free', 'from', '4', 'all', 'know', 'go', 'how', 'what', 'ill', 'like', 'am', 'then', 'got', 'good', 'come', 'was', 'day', 'love', 'there', 'time', 'only', 'as', 'send', 'text', 'want', 'he', 'going', 'txt', 'by', 'one', 'still', 'sorry', 'lor', 'about', 'r', 'need', 'back', 'home', 'reply', 'our', 'n', 'see', 'today', 'they', 'stop', 'hi', 'well', 'think', 'new', 'she', 'any', 'da', 'been', 'here', 'phone', 'Ì', 'please', 'tell', 'later', 'did', 'take', 'some', 'mobile', 'cant', 'night', 'happy', 'dear', 'claim', 'an', 'her', 'has', 'week', 'too', 'who', 'where', 'much', 'great', 'more', 'way', 'oh', 'hey', 'right', 'him', 'say', 'had', 'work', 'wat', 'tomorrow', 'already', 'hope', 'should', 'prize', 'pls', 'give', 'e', 'said', 'make', 'message', 'd', 'thats', 'yeah', 'msg', 'c', 'amp', 'really', 'after', '1', 'were', 'number', 'morning', 'miss', 'ask', 'them', 'yes', 'would', 'meet', 'every', 'doing', 'win', 'why', 'over', 'sure', 'sent', 'find', 'babe', 'won', 'lol', 'very', 'feel', 'thanks', 'life', 'let', 'last', 'ive', 'also', 'cos', 'cash', 'went', 'pick', 'nokia', 'didnt', 'per', 'contact', 'late', 'first', 'urgent', 'something', 'place', 'k', 'buy', 'around', 'always', 'again', 'wait', 'someone', 'money', 'care', 'keep', 'could', 'chat', 'before', 'anything', 'ya', 'b', '3', 'yet', 'getting', 'even', 'v', 'service', 'friends', 'down', 'customer', 'wont', 'waiting', 'thk', 'many', 'his', 'haha', 'us', 'soon', 'nice', 'next', 'help', 'class', 'year', 'which', 'thing', 'sleep', 'live', 'dun', '16', 'youre', 'off', 'gonna', 'wan', 'leave', 'hello', 'done', 'ÌÏ', 'x', 'wish', 'tone', 'special', 'people', 'may', 'guaranteed', 'tonight', 'things', 'same', 'other', 'man', 'job', 'draw', '5', '18', 'try', 'told', 'mind', 'gud', 'talk', 'line', 'having', 'few', 'best', 'lunch', 'long', 'guess', 'end', 'coming', 'chance', 'sms', 'smile', 'pay', 'heart', 'fine', 'check', 'car', 'bit', 'yup', 'yo', 'wanna', 'trying', 'thought', 'real', 'into', 'friend', 'eat', 'early', 'does', 'cost', 'better', 'y', 'use', 'than', 'person', 'once', 'mins', 'min', 'meeting', 'lar', 'holiday', 'half', 'guys', 'finish', 'being', 'because', '1st', 'room', 'receive', 'ready', 'luv', 'havent', 'awarded', 'account', 'xxx', 'word', 'tv', 'start', 'speak', 'shit', 'reach', 'nothing', 'name', 'might', 'jus', 'girl', 'ever', 'dunno', 'birthday', 'another', 'å£2000', 'world', 'stuff', 'sir', 'shows', 'play', 'pa', 'offer', 'never', 'latest', 'hows', 'house', 'enjoy', 'days', 'dat', 'cool', 'box', 'big', 'aight', '150ppm', 'whats', 'thanx', 'sweet', 'sexy', 'remember', 'probably', 'princess', 'minutes', 'lot', 'landline', 'hear', 'god', 'bed', 'å£1000', 'xmas', 'watching', 'watch', 'video', 'until', 'two', 'thank', 'tcs', 'shall', 'po', 'liao', 'camera', 'apply', 'actually', '6', 'working', 'wk', 'put', 'part', 'most', 'maybe', 'mail', 'made', 'looking', 'look', 'join', 'doesnt', 'den', 'came', 'called', 'between', 'asked', 'å£150', 'while', 'todays', 'tmr', 'those', 'quite', 'orange', 'okay', 'network', 'must', 'month', 'means', 'making', 'little', 'left', 'id', 'hour', 'goes', 'evening', 'entry', 'enough', 'collect', 'ah', 'afternoon', 'abt', '7', '500', '2nd', 'worry', 'without', 'weekly', 'weekend', 'wanted', 'wake', 'town', 'tones', 'till', 'theres', 'since', 'selected', 'sat', 'ringtone', 'problem', 'plz', 'plan', 'office', 'missing', 'ltdecimalgt', 'kiss', 'hes', 'hav', 'fuck', 'forgot', 'easy', 'dude', 'dis', 'dinner', 'baby', 'texts', 'shopping', 'shes', 'mob', 'lose', 'fun', 'code', 'change', 'bus', 'award', 'yourself', 'yesterday', 'top', 'times', 'says', 's', 'run', 'plus', 'pain', 'oso', 'leh', 'hair', 'gift', 'food', 'everything', 'boy', 'bonus', 'bad', 'answer', 'alright', '9', '8007', '150p', 'å£100', 'yours', 'wif', 'took', 'til', 'though', 'pics', 'online', 'makes', 'either', 'de', 'dad', 'comes', 'calls', 'bored', 'able', 'å£500', 'years', 'wid', 'valid', 'true', 'tried', 'test', 'stay', 'sleeping', 'price', 'order', 'noe', 'messages', 'lets', 'juz', 'hurt', 'hot', 'happen', 'guy', 'finished', 'final', 'double', 'delivery', 'coz', 'club', 'bt', 'attempt', 'aft', '86688', 'wot', 'words', 'wife', 'whatever', 'wen', 'wants', 'vouchers', 'tscs', 'story', 'smoke', 'show', 'shop', 'set', 'search', 're', 'rate', 'question', 'music', 'movie', 'lei', 'land', 'huh', 'head', 'gr8', 'goin', 'full', 'found', 'feeling', 'everyone', 'else', 'driving', 'details', 'collection', 'bring', 'book', 'beautiful', 'awesome', 'away', 'ard', '150pmsg', 'worth', 'tomo', 'sis', 'services', 'school', 'sch', 'saying', 'sad', 'post', 'okie', 'missed', 'mean', 'lots', 'hours', 'haf', 'friendship', 'forget', 'family', 'email', 'date', 'close', 'cause', 'calling', 'busy', 'break', 'anyway', 'anyone', 'address', 'winner', 'whole', 'voucher', 'update', 'unsubscribe', 'treat', 'touch', 'together', 'thinking', 'sister', 'saw', 'pounds', 'neva', 'mum', 'mobileupd8', 'minute', 'meant', 'm', 'lucky', 'lovely', 'leaving', 'isnt', 'important', 'goodmorning', 'fri', 'fast', 'drop', 'congratulations', 'company', 'choose', 'charge', 'case', 'bout', 'angry', '8', 'yr', 'youve', 'weeks', 'uk', 'sun', 'sounds', 'second', 'sea', 'sae', 'quiz', 'poly', 'pic', 'oredi', 'old', 'nt', 'news', 'needs', 'mu', 'msgs', 'lost', 'lesson', 'laptop', 'hard', 'game', 'felt', 'far', 'dnt', 'dating', 'content', 'colour', 'carlos', 'caller', 'both', 'believe', 'available', 'area', 'alone', '750', '12hrs', '08000839402', 'å£250', '\\x89Û', 'wonderful', 'walk', 'unlimited', 'ugh', 'trip', 'tot', 'tho', 'thinks', 'ten', 'telling', 'tc', 'taking', 'takes', 'snow', 'smiling', 'simple', 'secret', 'saturday', 'rite', 'reading', 'read', 'pub', 'prob', 'points', 'point', 'pobox', 'player', 'phones', 'party', 'parents', 'outside', 'opt', 'operator', 'march', 'light', 'john', 'hungry', 'hee', 'happened', 'hand', 'girls', 'g', 'fucking', 'frnds', 'friday', 'father', 'fancy', 'eve', 'entered', 'eg', 'earlier', 'download', 'dogging', 'direct', 'darlin', 'cum', 'credit', 'crazy', 'college', 'chennai', 'card', 'brother', 'boytoy', 'bday', 'bank', 'b4', 'auction', 'ass', 'askd', 'anytime', 'ans', 'almost', 'age', '150', '10p', '10', '0800', 'å£5000', 'youll', 'yar', 'welcome', 'wana', 'valentines', 'used', 'type', 'txts', 'these', 'th', 't', 'song', 'seeing', 'savamob', 'rock', 'ring', 'questions', 'project', 'private', 'picking', 'paper', 'open', 'o', 'nope', 'nite', 'mrng', 'months', 'mine', 'mah', 'ltd', 'log', 'loads', 'knows', 'kind', 'jay', 'invited', 'hold', 'hit', 'happiness', 'ha', 'gotta', 'fr', 'finally', 'feels', 'face', 'enter', 'ends', 'empty', 'each', 'drive', 'dreams', 'decided', 'cut', 'currently', 'cs', 'correct', 'congrats', 'christmas', 'camcorder', 'callertune', 'blue', 'bath', 'await', 'ago', 'abiola', '100', '08000930705', 'yep', 'wrong', 'wonder', 'wkly', 'within', 'wil', 'whos', 'warm', 'w', 'visit', 'via', 'uks', 'truth', 'tired', 'tickets', 'through', 'their', 'terms', 'tel', 'starts', 'started', 'st', 'somebody', 'sick', 'rply', 'reason', 'pass', 'otherwise', 'offers', 'ntt', 'noon', 'national', 'nah', 'na', 'move', 'motorola', 'met', 'mate', 'loving', 'lover', 'lovable', 'loan', 'lect', 'least', 'knw', 'joys', 'itself', 'india', 'immediately', 'hoping', 'hell', 'heard', 'gone', 'gettin', 'gd', 'games', 'frens', 'fact', 'extra', 'eh', 'drink', 'don', 'discount', 'difficult', 'couple', 'confirm', 'comin', 'charged', 'bslvyl', 'bcoz', 'asking', 'accept', '87066', '12', 'å£800', '\\x89ÛÒ', 'yrs', 'xx', 'worried', 'woke', 'wiv', 'wed', 'wats', 'wap', 'valued', 'ure', 'unredeemed', 'txting', 'talking', 'swing', 'sunshine', 'sub', 'store', 'spend', 'sound', 'sort', 'sometimes', 'small', 'silent', 'side', 'sex', 'sending', 'safe', 'rental', 'rent', 'rain', 'promise', 'pretty', 'press', 'park', 'myself', 'moms', 'mm', 'mates', 'loved', 'listen', 'library', 'leaves', 'ldn', 'knew', 'kinda', 'ipod', 'identifier', 'hmmm', 'gets', 'gas', 'frnd', 'freemsg', 'forwarded', 'fone', 'figure', 'expires', 'etc', 'drugs', 'die', 'decide', 'darren', 'cute', 'complimentary', 'chikku', 'catch', 'boss', 'bathe', 'asap', 'apartment', 'anymore', 'against', 'across', '2day', 'å£300', 'å£200', 'yahoo', 'wwwgetzedcouk', 'wow', 'worries', 'wit', 'wishing', 'wine', 'weekends', 'voice', 'uncle', 'trust', 'trouble', 'tht', 'tenerife', 'surprise', 'supposed', 'sunday', 'statement', 'spent', 'specially', 'somewhere', 'smth', 'slowly', 'slow', 'showing', 'short', 'seriously', 'semester', 'seems', 'road', 'request', 'plans', 'orchard', 'optout', 'numbers', 'normal', 'no1', 'near', 'muz', 'mr', 'movies', 'monday', 'mom', 'mode', 'mobiles', 'mistake', 'merry', 'menu', 'matches', 'match', 'married', 'luck', 'loyalty', 'lessons', 'lazy', 'kb', 'il', 'idea', 'ice', 'however', 'hop', 'hmv', 'hmm', 'hgsuite3422lands', 'happening', 'gym', 'frm', 'flirt', 'exam', 'energy', 'eating', 'dvd', 'during', 'dream', 'door', 'doin', 'disturb', 'depends', 'deep', 'daddy', 'cup', 'credits', 'course', 'copy', 'comp', 'cinema', 'cine', 'cheap', 'buzz', 'booked', 'bill', 'aint', 'ahead', 'admirer', '85023', '50', '2nite', '25p', '20', '10pmin', 'wun', 'wondering', 'wishes', 'willing', 'wheres', 'whenever', 'wer', 'weight', 'water', 'wasnt', 'vl', 'usually', 'usual', 'usf', 'urself', 'umma', 'training', 'train', 'towards', 'tough', 'tonite', 'thnk', 'theyre', 'team', 'tampa', 'style', 'study', 'students', 'straight', 'std', 'space', 'sofa', 'slave', 'situation', 'shuhui', 'shower', 'serious', 'sense', 'sell', 'seen', 'save', 'sale', 'rs', 'rest', 'representative', 'replying', 'remove', 'registered', 'reference', 'rcvd', 'q', 'pray', 'power', 'poor', 'polys', 'police', 'pm', 'pizza', 'persons', 'paying', 'past', 'password', 'page', 'opinion', 'oops', 'omw', 'nyt', 'notice', 'nobody', 'net', 'naked', 'murderer', 'murdered', 'murder', 'mon', 'moment', 'mo', 'miracle', 'midnight', 'mid', 'men', 'member', 'melle', 'mei', 'meh', 'maximize', 'marriage', 'lttimegt', 'looks', 'link', 'less', 'lady', 'kids', 'ki', 'kept', 'kate', 'kallis', 'joined', 'january', 'ish', 'info', 'imma', 'imagine', 'howz', 'high', 'heavy', 'grins', 'glad', 'gave', 'funny', 'freephone', 'forward', 'forever', 'fixed', 'five', 'fb', 'facebook', 'f', 'eyes', 'experience', 'envelope', 'din', 'deal', 'dead', 'damn', 'cuz', 'custcare', 'croydon', 'crave', 'cr9', 'country', 'convey', 'computer', 'completely', 'colleagues', 'cold', 'checking', 'charity', 'changed', 'cd', 'cashin', 'cashbalance', 'bugis', 'btnationalrate', 'bluetooth', 'bid', 'bedroom', 'become', 'bb', 'bak', 'arrive', 'ar', 'appreciate', 'alrite', 'al', 'air', 'advance', 'add', 'activate', 'access', '800', '5wb', '4u', '20p', '1327', '11mths', '11', '1000s', '1000', '08707509020', 'å£900', 'å£350', 'å£10', 'yun', 'youd', 'yogasana', 'yoga', 'yest', 'write', 'workin', 'wnt', 'wet', 'weed', 'weather', 'waste', 'waking', 'vary', 'uve', 'using', 'unsub', 'unless', 'understand', 'ufind', 'twice', 'turns', 'tuesday', 'ttyl', 'transaction', 'track', 'tncs', 'ticket', 'thru', 'thinkin', 'teasing', 'teach', 'summer', 'studying', 'strong', 'street', 'staying', 'starting', 'spree', 'spoke', 'specialcall', 'sonyericsson', 'sony', 'sky', 'sitting', 'sit', 'singles', 'single', 'sim', 'sign', 'sight', 'sighs', 'shell', 'shd', 'self', 'sec', 'screaming', 'scream', 'sam', 'rreveal', 'round', 'rose', 'review', 'replied', 'recently', 'receipt', 'reached', 'rather', 'rates', 'raining', 'quick', 'quality', 'putting', 'pound', 'possible', 'pobox84', 'pobox36504w45wq', 'pleasure', 'pleased', 'planning', 'plane', 'places', 'pix', 'photo', 'pete', 'personal', 'pc', 'partner', 'paid', 'p', 'others', 'ones', 'num', 'none', 'nigeria', 'ni8', 'mrt', 'mp3', 'mood', 'moan', 'medical', 'marry', 'loverboy', 'login', 'locations', 'local', 'll', 'liked', 'lift', 'learn', 'laugh', 'la', 'king', 'j', 'izzit', 'information', 'inc', 'iam', 'hurry', 'hook', 'honey', 'ho', 'hl', 'happens', 'hai', 'gt', 'group', 'goto', 'giving', 'gay', 'gal', 'future', 'fullonsmscom', 'flower', 'flights', 'fingers', 'film', 'fetch', 'fault', 'fat', 'fantastic', 'fall', 'excuse', 'excellent', 'ex', 'euro2004', 'england', 'ending', 'ended', 'em', 'eatin', 'drug', 'donåÕt', 'don\\x89Û÷t', 'doctor', 'digital', 'different', 'died', 'didt', 'del', 'dai', 'competition', 'coffee', 'click', 'clean', 'choice', 'chinese', 'checked', 'character', 'cc', 'callers', 'cal', 'cabin', 'brand', 'bother', 'boo', 'black', 'belly', 'battery', 'balance', 'ave', 'arrested', 'april', 'announcement', 'alex', 'aiyah', 'aftr', '8th', '87077', '86021', '80062', '530', '4th', '40gb', '36504', '2004', '2003', 'å£3wk', 'å£3', 'å£1500', 'zed', 'youclean', 'yay', 'yan', 'xy', 'xchat', 'woman', 'wednesday', 'wearing', 'weak', 'walking', 'wah', 'w45wq', 'vodafone', 'vip', 'vijay', 'version', 'valentine', 'user', 'urn', 'urgnt', 'under', 'unable', 'ull', 'tuition', 'truly', 'tour', 'totally', 'tkts', 'tis', 'timing', 'thurs', 'thts', 'throw', 'three', 'thatåÕs', 'texting', 'tells', 'tear', 'teaches', 'tat', 'tariffs', 'system', 'surfing', 'surely', 'support', 'super', 'sup', 'sucks', 'subscriber', 'str', 'stopped', 'station', 'standard', 'stand', 'sptyrone', 'sport', 'south', 'some1', 'solve', 'slept', 'simply', 'shouldnt', 'shoot', 'share', 'settled', 'series', 'selling', 'sed', 'season', 'searching', 'running', 'rude', 'ru', 'roww1jhl', 'roommates', 'reveal', 'research', 'refused', 'realy', 'rays', 'quote', 'quit', 'qatar', 'pple', 'ppl', 'posted', 'porn', 'plenty', 'playing', 'pin', 'pictures', 'picked', 'photos', 'pg', 'perfect', 'passionate', 'pages', 'own', 'oru', 'obviously', 'norm150ptone', 'naughty', 'nature', 'natural', 'model', 'minuts', 'meanwhile', 'mayb', 'matter', 'mark', 'manda', 'ma', 'm263uz', 'lookin', 'longer', 'lmao', 'list', 'linerental', 'lemme', 'lecture', 'lead', 'latr', 'largest', 'kick', 'kettoda', 'keeping', 'joke', 'jiu', 'jesus', 'jazz', 'i\\x89Û÷m', 'itplspls', 'issues', 'interview', 'interesting', 'insurance', 'instead', 'informed', 'indian', 'hurts', 'hug', 'hrs', 'hotel', 'hostel', 'hospital', 'horny', 'hopefully', 'holding', 'holder', 'hiya', 'hip', 'height', 'hasnt', 'happend', 'guide', 'grl', 'gravity', 'google', 'goodnight', 'godi', 'gives', 'ge', 'gals', 'further', 'frndship', 'fren', 'following', 'fml', 'flat', 'flag', 'files', 'february', 'faster', 'fantasy', 'fantasies', 'fa', 'explain', 'expecting', 'expect', 'exciting', 'exactly', 'evng', 'especially', 'enjoyed', 'enemy', 'embarassed', 'eerie', 'ec2a', 'easier', 'dry', 'drinks', 'dollars', 'dictionary', 'dey', 'definitely', 'darling', 'daily', 'cw25wx', 'cud', 'cry', 'credited', 'couldnt', 'cooking', 'contacted', 'connect', 'confidence', 'conditions', 'coins', 'co', 'clock', 'city', 'childish', 'cheers', 'charges', 'centre', 'center', 'cell', 'cds', 'carefully', 'careful', 'cannot', 'cancel', 'campus', 'caken', 'cafe', 'bye', 'buying', 'budget', 'bucks', 'brings', 'bringing', 'brilliant', 'bowl', 'boring', 'bold', 'body', 'bloodsend', 'blank', 'bitch', 'birds', 'bin', 'bf', 'bet', 'belovd', 'begin', 'bcums', 'barely', 'bahamas', 'bag', 'awaiting', 'ate', 'asleep', 'askin', 'arrange', 'arms', 'argument', 'arent', 'appointment', 'app', 'anyways', 'anybody', 'ansr', 'airport', 'ahmad', 'affection', 'adult', 'addicted', 'acc', 'ac', '8552', '83600', '82277', '7250i', '6hrs', '542', '3rd', '3g', '3030', '300', '25', '2000', '1x150pwk', '150ptone', '150pm', '08718720201', '0870', '020603', 'å£75000', 'å£1450', 'å£10000', 'ym', 'yijue', 'yetunde', 'yeshe', 'xavier', 'wwwldewcom1win150ppmx3age16', 'wwwcomuknet', 'worse', 'wonders', 'women', 'wins', 'wifehow', 'whom', 'white', 'whether', 'whenevr', 'weve', 'weird', 'website', 'wear', 'wc1n3xx', 'wanting', 'walls', 'walked', 'waitin', 'vry', 'voicemail', 'vodka', 'voda', 'village', 'vikky', 'vettam', 'verify', 'vegetables', 'valuable', 'valid12hrs', 'upto', 'upgrade', 'unsold', 'uni', 'uncles', 'u4', 'tyler', 'txtin', 'txtauction', 'turn', 'tt', 'tree', 'travel', 'torch', 'tom', 'toll', 'toa', 'titles', 'title', 'tick', 'thursday', 'throat', 'theory', 'themob', 'theatre', 'textoperator', 'tests', 'terrible', 'term', 'tenants', 'temple', 'technical', 'teacher', 'tea', 'tcsstop', 'tcrw1', 'tb', 'tape', 'talent', 'tablets', 'ta', 'symbol', 'swtheart', 'surprised', 'sura', 'suprman', 'supply', 'supervisor', 'suntec', 'sunny', 'suggest', 'sugar', 'successfully', 'subs', 'subpoly', 'stylish', 'stupid', 'stock', 'starwars3', 'stars', 'sports', 'spook', 'spoken', 'spl', 'spk', 'spending', 'spell', 'speed', 'sore', 'sooner', 'somethin', 'sol', 'soft', 'social', 'snake', 'smoking', 'smokes', 'smiles', 'slippers', 'slap', 'sk38xh', 'six', 'site', 'siri', 'sipix', 'sing', 'si', 'shortly', 'shorter', 'shirt', 'shipping', 'shesil', 'sheets', 'sha', 'settle', 'sentence', 'selection', 'seemed', 'seconds', 'seat', 'se', 'screen', 'scotland', 'scared', 'saved', 'saucy', 'satisfied', 'salary', 'rush', 'runs', 'roww1j6hl', 'row', 'ron', 'romantic', 'role', 'roger', 'roast', 'ride', 'revealed', 'returns', 'returned', 'return', 'results', 'result', 'responding', 'respond', 'responcewhat', 'respect', 'requests', 'remind', 'remembered', 'rem', 'regular', 'register', 'regards', 'red', 'record', 'recent', 'recd', 'reality', 'reaching', 'random', 'ran', 'railway', 'quoting', 'quickly', 'questioned', 'queen', 'purpose', 'purity', 'purchase', 'public', 'ps', 'provided', 'prospects', 'promises', 'profit', 'process', 'problems', 'previously', 'present', 'prepare', 'prefer', 'ppm', 'pongal', 'pod', 'pocketbabecouk', 'players', 'played', 'pissed', 'pilates', 'pieces', 'picture', 'philosophy', 'personality', 'peace', 'payoh', 'parked', 'paris', 'package', 'pack', 'original', 'ordered', 'or2stoptxt', 'onto', 'oni', 'omg', 'oic', 'often', 'official', 'nxt', 'nw', 'nurungu', 'ntwk', 'nos', 'norm', 'nights', 'newest', 'names', 'mums', 'msging', 'moved', 'mother', 'morn', 'moral', 'moon', 'monthly', 'moji', 'mobilesdirect', 'mmmm', 'mix', 'mite', 'missin', 'minnaminunginte', 'mini', 'milk', 'messageno', 'messageits', 'members', 'meaning', 'meal', 'matured', 'matrix3', 'mas', 'map', 'maneesha', 'management', 'magical', 'maga', 'lvblefrnd', 'lturlgt', 'loves', 'lousy', 'lotr', 'lonely', 'logo', 'living', 'lives', 'listening', 'lines', 'likes', 'likely', 'lifpartnr', 'lifetime', 'lie', 'lido', 'letter', 'leona', 'laughing', 'laid', 'ladies', 'l8r', 'kusruthi', 'kkhow', 'kidz', 'key', 'kerala', 'kadeem', 'june', 'jstfrnd', 'joy', 'jordan', 'jokes', 'jays', 'jan', 'jada', 'italian', 'issue', 'iq', 'invite', 'intro', 'internet', 'interested', 'intelligent', 'inside', 'inform', 'inclusive', 'incident', 'inches', 'ignore', 'idk', 'ideas', 'hw', 'hv', 'hun', 'housemaid', 'horrible', 'homeowners', 'hols', 'holla', 'hm', 'hint', 'hgsuite3422landsroww1j6hl', 'hella', 'headache', 'havin', 'hate', 'hardcore', 'hanging', 'handset', 'hands', 'ham', 'greetings', 'green', 'grand', 'gram', 'govtinstituitions', 'gorgeous', 'gods', 'gentleman', 'gentle', 'geeee', 'gee', 'gap', 'gang', 'frying', 'freezing', 'freak', 'fran', 'four', 'force', 'footprints', 'football', 'followed', 'follow', 'floor', 'flight', 'fix', 'fit', 'fish', 'finishing', 'finishes', 'films', 'fill', 'file', 'fightng', 'fighting', 'fifteen', 'fever', 'feet', 'feb', 'fear', 'favour', 'fave', 'fancies', 'exhausted', 'except', 'exact', 'evn', 'escape', 'entitled', 'english', 'elsewhere', 'earth', 'due', 'dropped', 'dresser', 'dot', 'doggy', 'dog', 'dislikes', 'discuss', 'dirty', 'directly', 'dint', 'dignity', 'dificult', 'diet', 'dick', 'dem', 'delivered', 'deleted', 'def', 'december', 'death', 'dearer', 'dear1', 'dayu', 'dave', 'dats', 'dates', 'dark', 'cutefrnd', 'cust', 'cross', 'created', 'crab', 'cover', 'costs', 'costa', 'contract', 'concentrate', 'complete', 'community', 'collecting', 'collected', 'closer', 'closedincluding', 'clos1', 'cleared', 'clear', 'cleaning', 'claire', 'church', 'children', 'child', 'cheer', 'cheaper', 'chain', 'cbe', 'caught', 'catching', 'cartoon', 'cars', 'career', 'cancer', 'cam', 'callsmessagesmissed', 'bx420ip45we', 'buzy', 'butt', 'burger', 'buns', 'buff', 'btw', 'bstfrnd', 'brought', 'bro', 'boye', 'box97n7qp', 'boston', 'boost', 'boat', 'bloody', 'blood', 'bloo', 'blah', 'blackberry', 'bite', 'bishan', 'birla', 'biggest', 'bigger', 'beware', 'best1', 'behave', 'beer', 'becoz', 'bay', 'bathing', 'awake', 'avent', 'avatar', 'august', 'attend', 'atlanta', 'assume', 'asks', 'appt', 'apps', 'apparently', 'apologise', 'anywhere', 'anti', 'amt', 'amazing', 'alwys', 'alert', 'alcohol', 'aiyo', 'aiya', 'aha', 'age16', 'afraid', 'advise', 'action', 'ache', 'aathiwhere', 'aathilove', '8neighbour', '89555', '88600', '88066', '87575', '87239', '87131', '87121', '87021', '84025', '83222', '81303', '80488', '7th', '7children', '786', '6th', '6housemaid', '630', '5th', '5gently', '5gardener', '5000', '4press', '4mths', '4info', '4cook', '3wife', '3d', '3cover', '3510i', '2u', '2police', '2optout', '28', '21st', '2005', '1his', '1956669', '18only', '150pmsgrcvdhgsuite3422landsroww1j6hl', '123', '121', '11414', '10k', '10am7pm', '09066612661', '09066362231', '09061209465', '08717898035', '08712460324', '08712405020', '08712300220', '08001950382', '08000938767', '07xxxxxxxxx', 'å£6', 'å£450', 'å£250k', 'å£150perwksub', 'å£150msg', 'å£1250', 'å£1', 'Ìll', 'zoe', 'yuo', 'yummy', 'yeshere', 'yer', 'yck', 'xxxxx', 'xuhui', 'xam', 'wwwtxttowincouk', 'wwwtextpodnet', 'wwwtextcompcom', 'wwwsmsconet', 'wwwringtonescouk', 'wwwmovietriviatv', 'wwwldewcomsubs161win150ppmx3', 'wwwldewcom', 'www4tcbiz', 'www07781482378com', 'wtf', 'ws', 'wouldnt', 'worldvery', 'worlds', 'wordstart', 'wo', 'wld', 'wkg', 'wkent150p16', 'wkend', 'wiskey', 'wishin', 'wise', 'wisdom', 'windows', 'wind', 'wicklow', 'whose', 'whn', 'wherever', 'whatsup', 'we\\x89Û÷re', 'welp', 'weirdest', 'weigh', 'weekstop', 'web', 'waves', 'walmart', 'wales', 'waitu', 'waited', 'waheed', 'wa', 'w111wx', 'vu', 'vth', 'vote', 'vomit', 'violet', 'violated', 'videophones', 'videochat', 'vewy', 'vegas', 've', 'vday', 'vava', 'various', 'vale', 'vaazhthukkal', 'uu', 'utter', 'usualiam', 'usher', 'useful', 'usc', 'usb', 'urgentlyits', 'urgentbut', 'upstairs', 'updatenow', 'up4', 'unknown', 'unique', 'unfortunately', 'unemployed', 'underwear', 'understanding', 'unbelievable', 'ummmmmaah', 'ultimatum', 'uh', 'ubi', 'txtno', 'txtauctiontxt', 'twilight', 'twelve', 'turning', 'tulip', 'tues', 'tsunamis', 'tscs087147403231winawkage16', 'tsandcs', 'truffles', 'treated', 'transfered', 'trade', 'touched', 'total', 'tortilla', 'toot', 'tool', 'tons', 'tones2youcouk', 'tomarrow', 'tok', 'todaysundaysunday', 'todayfrom', 'toclaim', 'tmrw', 'tming', 'tm', 'tlk', 'tiwary', 'tirupur', 'tihs', 'thx', 'ths', 'thread', 'thot', 'thm', 'thgt', 'thesis', 'therere', 'that\\x89Û÷s', 'thatll', 'thanksgiving', 'thangam', 'textpod', 'textbuddy', 'testing', 'tessypls', 'telly', 'tee', 'tech', 'tcsbcm4235wc1n3xx', 'taxi', 'taste', 'tank', 'takin', 'taken', 'tahan', 'tacos', 'swt', 'swiss', 'swimming', 'sweets', 'sweetie', 'sweetheart', 'sweetest', 'suzy', 'sux', 'survey', 'superior', 'superb', 'sum', 'sufficient', 'sue', 'successful', 'subscribed', 'stupidits', 'strongbuy', 'strike', 'stranger', 'stores', 'stones', 'stomps', 'stomach', 'stockport', 'stick', 'steam', 'stays', 'stayin', 'star', 'standing', 'stamps', 'stamped', 'staff', 'sptv', 'spring', 'speedchat', 'speaking', 'spare', 'source', 'soul', 'sorydarealyfrm', 'sory', 'sorryin', 'sooooo', 'soo', 'songs', 'solved', 'soiree', 'software', 'snowman', 'sn', 'sms08718727870', 'smeone', 'slots', 'slip', 'slice', 'sleepwellamptake', 'sleepingand', 'skyped', 'skype', 'skilgme', 'sinco', 'simpler', 'silently', 'signing', 'sian', 'shouted', 'shot', 'shortage', 'shirts', 'shijas', 'sheffield', 'shampain', 'shame', 'shagged', 'seven', 'settings', 'setting', 'serving', 'sept', 'sentdate', 'sends', 'sendername', 'sen', 'sells', 'seem', 'secretly', 'scrounge', 'screamed', 'scotch', 'scoring', 'score', 'schools', 'schedule', 'scary', 'sary', 'sarcasm', 'salon', 'saidif', 'sacrifice', 'sachin', 'rumour', 'rum', 'rooms', 'roommate', 'rofl', 'rocks', 'roads', 'river', 'ringtones', 'ringtoneget', 'rich', 'rice', 'rhythm', 'reward', 'revision', 'retrieve', 'restaurant', 'responsibility', 'response', 'resend', 'report', 'replacement', 'rentl', 'removed', 'reminding', 'reminder', 'remains', 'remain', 'released', 'relax', 'regarding', 'refilled', 'ref', 'recovery', 'recognise', 'recession', 'received', 'reasons', 'realize', 'readers', 'reaction', 'rd', 'rcv', 'ratetcs', 'ranjith', 'range', 'rang', 'randy', 'rally', 'rajipls', 'raise', 'radio', 'racing', 'questionstd', 'pussy', 'pushes', 'push', 'ptbo', 'propose', 'proof', 'prompts', 'promo', 'professors', 'probs', 'privacy', 'printed', 'prey', 'prepared', 'prepaid', 'premier', 'preferably', 'practice', 'practical', 'prabhaim', 'pouts', 'pouch', 'potter', 'potential', 'postcode', 'postcard', 'position', 'popped', 'pop', 'pool', 'polyphonic', 'polyph', 'politicians', 'pole', 'poker', 'poem', 'pobox45w2tg150p', 'pobox334', 'plm', 'plaza', 'pig', 'piece', 'pie', 'picsfree1', 'pickle', 'php', 'phoenix', 'period', 'penis', 'pence', 'peaceful', 'payment', 'payee', 'passed', 'partnership', 'parco', 'pan', 'painting', 'painful', 'oz', 'owns', 'ovulation', 'outstanding', 'os', 'oreo', 'option', 'opportunity', 'opinions', 'opening', 'oooh', 'onwards', 'ola', 'okthenwhats', 'oktake', 'okok', 'ofå£2000', 'officially', 'officeunderstand', 'offerthe', 'odi', 'o2', 'nydc', 'nyc', 'nvm', 'nowsky', 'nowi', 'now4t', 'noun', 'note', 'normally', 'noline', 'nokias', 'nokia6650', 'nokia6600', 'nok', 'noi', 'no81151', 'nit', 'nimyapls', 'nimya', 'nichols', 'nicenicehow', 'nic', 'networks', 'netcollex', 'neft', 'needed', 'ned', 'necklace', 'nearly', 'ne', 'nd', 'nb', 'natuition', 'nasty', 'nasdaq', 'nap', 'nan', 'named', 'name2', 'name1', 'nahi', 'nagar', 'nag', 'mystery', 'musthu', 'munsters', 'mumtazs', 'mumtaz', 'mummy', 'muchi', 'mths', 'mt', 'msgs150p', 'moves', 'mouth', 'mostly', 'moons', 'mono', 'monkeys', 'moments', 'moby', 'mobno', 'mobilesvary', 'mmmmm', 'mmm', 'misbehaved', 'mids', 'messy', 'messenger', 'messaging', 'messagesome', 'messaged', 'membership', 'mel', 'meetin', 'medicine', 'med', 'measure', 'mcat', 'maxå£7', 'max10mins', 'math', 'mandan', 'makin', 'major', 'maintain', 'main', 'mails', 'mailbox', 'mahal', 'macho', 'machan', 'mac', 'maangalyam', 'm95', 'm8s', 'm26', 'lyfu', 'lyf', 'luxury', 'lucy', 'lt3', 'lt', 'ls15hb', 'loxahatchee', 'lower', 'lovers', 'loveme', 'lounge', 'loud', 'losing', 'loses', 'loose', 'lookatme', 'london', 'logopic', 'location', 'lo', 'lk', 'liverpool', 'lip', 'lion', 'lily', 'lik', 'licks', 'lick', 'letters', 'legs', 'legal', 'ldnw15h', 'lays', 'laughed', 'langport', 'lacsthere', 'lacsthats', 'lab', 'kz', 'kudiyarasu', 'kr', 'knowing', 'knock', 'knackered', 'kkwhy', 'kkwhere', 'kkwhen', 'kkim', 'kisses', 'kindly', 'kills', 'killing', 'killed', 'kidding', 'kicks', 'kickoff', 'kg', 'keys', 'keralacircle', 'kent', 'kegger', 'ke', 'kay', 'kano', 'k52', 'july', 'juan', 'jst', 'jsco', 'journey', 'jordantxt', 'jolt', 'joking', 'jokin', 'joining', 'jo', 'jess', 'jenny', 'jen', 'jeans', 'jealous', 'jaya', 'java', 'jane', 'james', 'i\\x89Û÷ll', 'iz', 'it\\x89Û÷s', 'itlet', 'islands', 'iscoming', 'irritating', 'ip4', 'invest', 'interflora', 'interest', 'instructions', 'instantly', 'inr', 'innings', 'infowww100percentrealcom', 'infernal', 'indians', 'inconsiderate', 'including', 'include', 'inch', 'in2', 'improved', 'impossible', 'impatient', 'imp', 'ikea', 'ie', 'idiot', 'ideal', 'icicibankcom', 'ibiza', 'ibhltd', 'ibh', 'ias', 'hyde', 'husband', 'hurting', 'hurried', 'hunny', 'httpwwwurawinnercom', 'httpwwwetlpcoukexpressoffer', 'httpcareers', 'hrishi', 'hr', 'howard', 'hospitals', 'horo', 'hoped', 'honeybee', 'hon', 'holidayso', 'hol', 'history', 'hill', 'herself', 'herlove', 'heri', 'hence', 'helpline', 'help08712400602450p', 'helen', 'held', 'heater', 'heads', 'heading', 'headin', 'havnt', 'havenåÕt', 'harry', 'hardly', 'hang', 'handed', 'halloween', 'hallaq', 'habit', 'guilty', 'gudnitetcpractice', 'greet', 'greatbhaji', 'granite', 'gpu', 'gotten', 'gossip', 'goodo', 'goodnoon', 'gona', 'gold', 'gmgngegn', 'given', 'gin', 'gimme', 'gibbs', 'ghost', 'gf', 'getstop', 'georges', 'genuine', 'gent', 'genius', 'generally', 'gender', 'gaytextbuddycom', 'gautham', 'gary', 'garage', 'gaps', 'ganesh', 'gamestar', 'g696ga', 'fyi', 'furniture', 'funky', 'fujitsu', 'fuckin', 'fromm', 'fringe', 'freesend', 'freefone', 'free2day', 'frauds', 'forums', 'forum', 'formclark', 'forgiven', 'forgets', 'forevr', 'foreign', 'fool', 'fo', 'flowing', 'flash', 'flame', 'fixedline', 'finewhen', 'filthy', 'fills', 'figures', 'fight', 'field', 'female', 'favourite', 'favor', 'fathima', 'farm', 'fan', 'falls', 'falling', 'fair', 'failed', 'ey', 'explosive', 'exorcist', 'exeter', 'executive', 'excuses', 'exams', 'evr', 'everyday', 'everybodys', 'event', 'europe', 'euro', 'essential', 'esplanade', 'erm', 'enuff', 'eng', 'en', 'electricity', 'ela', 'eire', 'eight', 'ee', 'educational', 'ebay', 'easter', 'eastenders', 'drunk', 'drivin', 'driver', 'drinking', 'drinkin', 'dressed', 'dracula', 'dr', 'downloads', 'dorm', 'doors', 'docs', 'dload', 'diwali', 'divorce', 'division', 'distract', 'distance', 'display', 'discreet', 'disclose', 'dime', 'diff', 'diamonds', 'dhina', 'develop', 'desparate', 'derek', 'depressed', 'deliveredtomorrow', 'deliver', 'delhi', 'delete', 'definite', 'dedicated', 'dedicate', 'decisions', 'decision', 'decimal', 'deciding', 'dearly', 'deari', 'dayshe', 'datebox1282essexcm61xn', 'dare', 'dancing', 'dance', 'dahow', 'custcare08718720201', 'curry', 'current', 'curious', 'cuddling', 'cuddle', 'csh11', 'cruise', 'crore', 'cricketer', 'creepy', 'cream', 'crap', 'crack', 'cr01327bt', 'covers', 'countin', 'count', 'costå£150pm', 'costing', 'coping', 'cookies', 'contents', 'contacts', 'constant', 'considering', 'consider', 'connection', 'confused', 'confirmed', 'conducts', 'completed', 'complaint', 'compare', 'commercial', 'combine', 'color', 'coin', 'cock', 'cochin', 'coat', 'cn', 'closes', 'closed', 'clever', 'clearing', 'classes', 'china', 'chillin', 'chill', 'chicken', 'cheese', 'chechi', 'chatting', 'chasing', 'charles', 'chances', 'cha', 'certainly', 'celebrate', 'celeb4', 'cdgt', 'cat', 'castor', 'cashto', 'caring', 'cares', 'cared', 'cardiff', 'cappuccino', 'canada', 'callså£1minmoremobsemspobox45po139wa', 'callså£1minmobsmorelkpobox177hp51fl', 'callin', 'callfreefone', 'calld', 'callcost', 'call09050000327', 'cake', 'c52', 'buses', 'burning', 'building', 'buffet', 'bud', 'btooth', 'bruv', 'brothas', 'bros', 'broken', 'broke', 'britney', 'bristol', 'bright', 'brief', 'breathe', 'breath', 'bray', 'brandy', 'brah', 'boys', 'box95qu', 'box39822', 'box326', 'bought', 'bottom', 'borrow', 'borin', 'books', 'booking', 'bmw', 'bluff', 'blu', 'blow', 'bloombergcom', 'bloomberg', 'blokes', 'bloke', 'blind', 'blessing', 'blessed', 'bleh', 'blame', 'blakes', 'bird', 'billion', 'bids', 'beneficiary', 'ben', 'belive', 'bein', 'begging', 'beg', 'becomes', 'bec', 'bears', 'bcm1896wc1n3xx', 'batch', 'bat', 'basically', 'basic', 'base', 'bar', 'banks', 'bang', 'bagi', 'babes', 'ba', 'b4280703', 'b4190604', 'aww', 'avoid', 'auto', 'aunty', 'aunts', 'aunt', 'audition', 'arun', 'arng', 'argue', 'argh', 'arcade', 'approx', 'application', 'apart', 'aom', 'anythin', 'anthony', 'answers', 'answering', 'answered', 'anot', 'annoying', 'anniversary', 'anna', 'andros', 'amount', 'amongst', 'among', 'american', 'along', 'algarve', 'alfie', 'alaipayuthe', 'aka', 'ahsen', 'agree', 'ages', 'agalla', 'ag', 'affectionate', 'aeroplane', 'aeronautics', 'advice', 'ads', 'adoring', 'administrator', 'added', 'addamsfa', 'adam', 'ad', 'actor', 'active', 'acl03530150pm', 'accounts', 'accidentally', 'aburo', 'abta', 'ability', 'abi', '9t', '9pm', '9ja', '9am11pm', '9ae', '930', '8pm', '8am', '89693', '89545', '89080', '88222', '88088', '88039', '85069', '85', '84199', '84128', '83383', '83355', '830', '82468', '82242', '816183', '81151', '80608', '80182', '80086', '80082', '7ish', '7876150ppm', '730', '6pm', '6months', '6days', '69888', '69698', '69696', '61610', '60pmin', '5we', '5pm', '5min', '5k', '50p', '4tctxt', '4get', '4fil', '4d', '4a', '4742', '45239', '450', '447797706009', '41685', '40', '3uz', '3qxj9', '3mins', '3lp', '3gbp', '350', '326', '31pmsg150p', '300p', '2stoptxt', '2mrw', '2morrow', '2morow', '2moro', '2go', '2end', '2c', '26th', '250', '24hrs', '24', '22', '21870000hi', '21', '20000', '200', '1s', '1hr', '18yrs', '16only', '153', '150pwk', '150pmtmsgrcvd18', '150pmtmsg', '150pmin', '150pday', '145', '12mths', '125gift', '113', '10ppm', '1030', '09094646899', '09071512433', '09066364589', '09066358152', '09065174042', '09064012160', '09064011000', '09063458130', '09061790121', '09061743806', '09061221066', '09058099801', '09058094565', '09056242159', '09050090044', '09050003091', '09050002311', '09050001808', '08719181513', '08719180248', '08718727870', '08718727868', '08718726270150gbpmtmsg18', '08715705022', '0871277810810', '08712405022', '08712402050', '0870k', '08706091795', '0870241182716', '08701417012', '08452810075over18s', '08452810073', '0845', '0825', '08081560665', '0808', '08002986906', '08002888812', '08000776320', '08000407165', '07821230901', '07786200117', '07742676969', '07734396839', '07123456789', '071104', '0578', '050703', '0207', '01223585334', 'åÔrents', 'åÔmorrow', 'åÒits', 'åÒharry', 'åÐ', 'å£s', 'å£79', 'å£71', 'å£5month', 'å£54', 'å£50å£500', 'å£50award', 'å£500000', 'å£50', 'å£48', 'å£400', 'å£3365', 'å£1minmobsmorelkpobox177hp51fl', 'å£1million', 'å£150wk', 'å£150pmmorefrommobile2bremovedmobypobox734ls27yf', 'å£150pm', 'å£12', 'å£100000', '\\x89ÛÏharry', '\\x89ÛÏ', 'zyada', 'zouk', 'zoom', 'zogtorius', 'zindgi', 'zhong', 'zahers', 'zac', 'z', 'ywhere', 'yupz', 'yuou', 'yunny', 'yummmm', 'ystrdayice', 'yoyyooo', 'yowifes', 'you\\x89Û÷ll', 'youwhen', 'youwanna', 'youuuuu', 'youto', 'youthats', 'yourjob', 'yourinclusive', 'youphone', 'youmy', 'youmoney', 'yould', 'youkwhere', 'youi', 'youhow', 'youdearwith', 'youcarlos', 'youany', 'yorge', 'yor', 'yohere', 'ymca', 'yijuehotmailcom', 'yifeng', 'yi', 'yettys', 'yessura', 'yesmum', 'yesim', 'yesgauti', 'yesfrom', 'yesbut', 'yes434', 'yen', 'yelowi', 'yellow', 'yelling', 'yeh', 'yeesh', 'yeahand', 'yday', 'yaxxx', 'yaxx', 'yavnt', 'yam', 'yalru', 'yagoing', 'y87', 'xxxxxxxxxxxxxx', 'xxxxxxxx', 'xxxxxxx', 'xxxxxx', 'xxxx', 'xxxmobilemovieclubcomnqjkgighjjgcbl', 'xxxmobilemovieclub', 'xxuk', 'xxsp', 'xoxo', 'xnet', 'xin', 'xclusiveclubsaisai', 'xafter', 'x49', 'x29', 'x2', 'wylie', 'wwwwin82050couk', 'wwwtxt82228com', 'wwwtxt43com', 'wwwtxt2shopcom', 'wwwtklscom', 'wwwsmsacubootydelious', 'wwwrtfsphostingcom', 'wwwringtonekingcouk', 'wwwregalportfoliocouk', 'wwwphb1com', 'wwworangecoukow', 'wwwmusictrivianet', 'wwwidewcom', 'wwwfullonsmscom', 'wwwflirtpartyus', 'wwwdbuknet', 'wwwcnupdatescomnewsletter', 'wwwbridalpetticoatdreamscouk', 'wwwb4utelecom', 'wwwasjesuscom', 'wwwareyouuniquecouk', 'wwwapplausestorecom', 'www80488biz', 'wuldnt', 'wuld', 'wud', 'wthout', 'wth', 'wtc', 'wt', 'wrote', 'wrongtake', 'wrongly', 'wrnog', 'wrld', 'wrks', 'wrking', 'wrki', 'wrk', 'writhing', 'wright', 'wrench', 'wrecked', 'wrc', 'wquestion', 'woul', 'wotz', 'wotu', 'worthless', 'worst', 'worryuse', 'worrying', 'worryc', 'worriedx', 'worldmay', 'worldgnun', 'works', 'workout', 'worklove', 'workand', 'workage', 'wordnot', 'wordcollect', 'woozles', 'woould', 'woohoo', 'woods', 'wondarfull', 'wondar', 'womdarfull', 'woken', 'wnevr', 'wn', 'wmlid1b6a5ecef91ff937819firsttrue180430jul05', 'wlcome', 'wks', 'wizzle', 'witout', 'witot', 'witin', 'wither', 'withdraw', 'wishlist', 'wisheds', 'wire3net', 'wiproyou', 'wipro', 'winterstone', 'winning', 'winnersclub', 'wings', 'wined', 'windy', 'winds', 'window', 'win150ppmx3age16', 'wildlife', 'wildest', 'wild', 'wikipediacom', 'wihtuot', 'wifi', 'wifes', 'widelivecomindex', 'wicked', 'wi', 'whr', 'whore', 'whilltake', 'whileamp', 'wherres', 'wherevr', 'wherebtw', 'whereare', 'whens', 'whenre', 'wheellock', 'wheel', 'whassup', 'weåÕve', 'we\\x89Û÷ll', 'wetherspoons', 'westshore', 'westonzoyland', 'westlife', 'western', 'west', 'wesleys', 'wesley', 'werethe', 'werent', 'werebored', 'wereare', 'wendy', 'wellda', 'welcomes', 'weiyi', 'weirdy', 'weirdo', 'weightloss', 'weighthaha', 'weighed', 'weeddeficient', 'wee', 'weds', 'weddingfriend', 'wedding', 'weddin', 'websitenow', 'webpage', 'webeburnin', 'webadres', 'web2mobile', 'weasels', 'weaseling', 'weaknesses', 'weakness', 'wc', 'waythis', 'way2smscom', 'watts', 'watll', 'wating', 'watevr', 'watchin', 'watches', 'wasting', 'wasted', 'wasnåÕt', 'washob', 'warranty', 'warning', 'warned', 'warming', 'waqt', 'want2come', 'wan2', 'wamma', 'walsall', 'wallet', 'wall', 'walkin', 'walkabout', 'waliking', 'waitshould', 'waiti', 'waht', 'wahleykkumsharing', 'wahay', 'wahala', 'wadebridgei', 'wad', 'waaaat', 'wa14', 'w4', 'w1t1jy', 'w14rg', 'vtired', 'vs', 'vpod', 'voucherstext', 'voted', 'vomiting', 'vomitin', 'volcanoes', 'voila', 'vivek', 'viva', 'vitamin', 'visitors', 'visitneed', 'visiting', 'visionsmscom', 'virtual', 'virgins', 'virgin', 'violence', 'vill', 'videosounds2', 'videosound', 'videopic', 'vid', 'victors', 'vibrator', 'vibrate', 'versus', 'verifying', 'verified', 'venugopal', 'venaam', 'velly', 'velachery', 'vehicle', 'veggie', 'vatian', 'vat', 'vasai', 'vargu', 'varaya', 'values', 'vai', 'vaguely', 'vague', 'u\\x89Ûªve', 'uxxxx', 'uv', 'uup', 'uterus', 'usps', 'usno', 'usmle', 'uslet', 'uscedu', 'urmomi', 'urination', 'urgoin', 'urfeeling', 'upyeh', 'uptown', 'upseti', 'upset', 'ups', 'upping', 'upnot', 'upload', 'upgrdcentre', 'updat', 'upd8', 'unusual', 'unsubscribed', 'unsoldnow', 'unsoldmike', 'unsecured', 'unni', 'unnecessarily', 'unmits', 'univ', 'united', 'uniquei', 'uniform', 'unhappy', 'unhappiness', 'unfortuntly', 'unfolds', 'uneventful', 'undrstndng', 'understood', 'underdtand', 'uncountable', 'unconsciously', 'unconscious', 'unconditionally', 'uncomfortable', 'unclaimed', 'un', 'ummmawill', 'um', 'ultimately', 'uin', 'uif', 'uhhhhrmm', 'ugadi', 'ucall', 'ubandu', 'typical', 'types', 'typelyk', 'txtx', 'txtjourney', 'txt250com', 'twittering', 'twins', 'twinks', 'twiggs', 'twenty', 'twat', 'tvlol', 'turned', 'tunji', 'tune', 'tunde', 'tul', 'tui', 'tue', 'tts', 'tshirt', 'ts', 'trywales', 'tryin', 'truthful', 'truro', 'truekdo', 'truck', 'trouser', 'troubleshooting', 'tron', 'triumphed', 'trips', 'trial', 'trends', 'trek', 'trebles', 'traveling', 'trav', 'trauma', 'trash', 'transport', 'transfred', 'transfr', 'transferred', 'transferacc', 'transfer', 'transcribing', 'trains', 'trainners', 'traffic', 'traditions', 'trackmarque', 'tp', 'toxic', 'towndontmatter', 'toughest', 'totes', 'toss', 'toshiba', 'tosend', 'torrents', 'tor', 'toppoly', 'topped', 'toplay', 'topicsorry', 'tootsie', 'toothpaste', 'tooo', 'tookplace', 'tonitethings', 'tonitebusy', 'tonights', 'tongued', 'tonght', 'tonesreply', 'tones2u', 'tomorw', 'tomorrowcall', 'tomorro', 'tomocant', 'tomeandsaidthis', 'toledo', 'toldshe', 'tol', 'token', 'todo', 'todayhe', 'todaydo', 'todaybut', 'tobacco', 'tnc', 'tmorrowpls', 'tmobile', 'tiz', 'tisscotayseer', 'tirunelvali', 'tirunelvai', 'tiring', 'timings', 'timin', 'timi', 'timeslil', 'timehope', 'timedhoni', 'tim', 'tiime', 'tigress', 'tightly', 'tight', 'tiger', 'tiempo', 'thy', 'thus', 'thuglyfe', 'thrurespect', 'throws', 'thrown', 'throwing', 'throwin', 'thriller', 'threw', 'threats', 'thousands', 'thoughtsi', 'thoughts', 'thnx', 'thnq', 'thkin', 'thirunelvali', 'thinl', 'thinked', 'thinghow', 'thin', 'thia', 'theyll', 'thewend', 'theseyours', 'thesedays', 'therexx', 'theregoodnight', 'theoretically', 'thenwill', 'themp', 'themobyo', 'themed', 'thekingshead', 'theirs', 'thedailydraw', 'theater', 'theacusations', 'the4th', 'thatnow', 'thatdont', 'thatd', 'that2worzels', 'thasa', 'thanxxx', 'thanx4', 'thankyou', 'thanks2', 'thangamits', 'tgxxrz', 'textsweekend', 'textin', 'texted', 'textbook', 'textand', 'text82228', 'tex', 'tescos', 'terry', 'terrorist', 'terrific', 'teresa', 'tension', 'tensed', 'tendencies', 'temper', 'temp', 'teluguthts', 'telugu', 'telphone', 'teletext', 'telephonic', 'telephone', 'teju', 'teethis', 'teenager', 'technologies', 'tease', 'tears', 'teacoffee', 'teaching', 'tddnewsletteremc1couk', 'tcsc', 'tcllc', 'tayseertissco', 'taylors', 'taylor', 'taxt', 'taxless', 'taxes', 'taught', 'tau', 'tattoos', 'tata', 'tas', 'tarpon', 'tarot', 'tap', 'tallent', 'tall', 'talks', 'talkin', 'talked', 'talents', 'takenonly', 'takecare', 'taj', 'tai', 'tagged', 'tag', 'tadaaaaa', 'tactless', 'tactful', 'tackle', 'tablet', 'tables', 'table', 't91', 'systems', 'syria', 'synced', 'sympathetic', 'syllabus', 'swoop', 'switch', 'swimsuit', 'swell', 'sweatter', 'swear', 'sway', 'swatch', 'swap', 'swann', 'swalpa', 'sw73ss', 'sw7', 'svc', 'sutra', 'surya', 'surrounded', 'surname', 'surgical', 'supreme', 'supportvery', 'supports', 'supplies', 'suppliers', 'supose', 'suply', 'sunscreen', 'sunroof', 'sunoco', 'sundayish', 'sun0819', 'sumthin', 'summon', 'summers', 'sum1', 'sullivan', 'suits', 'suitemates', 'suite', 'sugardad', 'suganya', 'suffer', 'suddenly', 'suckers', 'sucker', 'such', 'success', 'subtoitles', 'subscrition', 'subscriptn3gbpwk', 'subscriptions', 'subscription', 'subscribe', 'submitting', 'submitted', 'subletting', 'stylist', 'styling', 'stuffed', 'stuff42moro', 'studyn', 'studio', 'studentfinancial', 'studdying', 'stuck', 'stubborn', 'sts', 'struggling', 'strtd', 'strt', 'strongly', 'strokes', 'strips', 'stripes', 'strict', 'strewn', 'stretch', 'stressed', 'stress', 'streetshall', 'stream', 'strangersaw', 'strange', 'strain', 'str8', 'storming', 'stories', 'storelike', 'stoptxtstopå£150week', 'stoptxt', 'stops', 'stopcs', 'stopcost', 'stopbcm', 'stop2stop', 'stop2', 'stool', 'stoners', 'stocked', 'stitch', 'stillmaybe', 'stifled', 'sth', 'stewartsize', 'sterling', 'stereophonics', 'stereo', 'steps', 'steering', 'steed', 'steamboat', 'stealing', 'steal', 'steak', 'stdtxtrate', 'stayed', 'status', 'stations', 'statements', 'stated', 'stash', 'starving', 'starti', 'starshine', 'starring', 'staring', 'stapati', 'stands', 'stalking', 'stalk', 'stairs', 'stagwood', 'staffsciencenusedusgphyhcmkteachingpc1323', 'stadium', 'stable', 'ssnervous', 'ssindia', 'ssi', 'sry', 'srt', 'srsly', 'srs', 'squishy', 'squid', 'squeeeeeze', 'squatting', 'sq825', 'spys', 'spunout', 'sprwm', 'sprint', 'springs', 'spreadsheet', 'sppok', 'spouse', 'spotty', 'spot', 'spose', 'sportsx', 'spoons', 'spontaneously', 'sponsors', 'spoilt', 'spoiled', 'spoil', 'splwat', 'splleing', 'splendid', 'splashmobile', 'spirit', 'spile', 'spiffing', 'spelling', 'speling', 'speeding', 'speechless', 'specs', 'specify', 'specific', 'specialise', 'specialisation', 'speciale', 'spatula', 'spark', 'spanish', 'spain', 'spageddies', 'spaces', 'sp', 'souveniers', 'sources', 'soup', 'soundtrack', 'sounding', 'soso', 'sos', 'sorts', 'sorting', 'sortedbut', 'sorted', 'sorta', 'sorryi', 'sorrowsi', 'sorrow', 'sophas', 'soooo', 'sooo', 'soonlots', 'soonc', 'sonetimes', 'sonathaya', 'somewhr', 'somewheresomeone', 'somewhat', 'sometme', 'sometimerakheshvisitor', 'somethings', 'somerset', 'someplace', 'someones', 'someday', 'sold', 'soladha', 'soil', 'sochte', 'soc', 'snowball', 'snoringthey', 'snogs', 'sno', 'snickering', 'snatch', 'snap', 'smsservices', 'smsd', 'smoothly', 'smokin', 'smoked', 'smithswitch', 'smith', 'smiley', 'smiled', 'smidgin', 'smell', 'smear', 'smashed', 'smartthough', 'smarter', 'smartcall', 'smart', 'smacks', 'slurp', 'slowing', 'slower', 'slovely', 'slob', 'slo4msgs', 'slo', 'slippery', 'slightly', 'sliding', 'slide', 'slices', 'sleepy', 'sleepsweet', 'sleeps', 'sleepingwith', 'slaaaaave', 'skirt', 'skip', 'skins', 'skills', 'skillgame1winaweek', 'skillgame', 'skateboarding', 'skallis', 'sk3', 'sized', 'size', 'siva', 'sittin', 'sitter', 'sitll', 'sirjii', 'sips', 'sip', 'sink', 'singing', 'sindu', 'simulate', 'simonwatson5120', 'silver', 'silly', 'silence', 'siguviri', 'signin', 'significant', 'significance', 'signal', 'sigh', 'sif', 'sicomo', 'sic', 'sib', 'shy', 'shut', 'shun', 'shrink', 'shrek', 'shracomorsglsuplt10', 'showroomscity', 'showers', 'showered', 'showed', 'shoving', 'shove', 'shouting', 'shoulders', 'shoul', 'shorts', 'shortcode', 'shorethe', 'shore', 'shoranur', 'shoes', 'shocking', 'shock', 'shldxxxx', 'shld', 'shjas', 'shivratri', 'shitstorm', 'shitload', 'shitin', 'shipped', 'ship', 'shiny', 'shining', 'shinco', 'shifad', 'shhhhh', 'sherawat', 'shelves', 'sheet', 'shb', 'shaved', 'shattered', 'shaping', 'shant', 'shanghai', 'shangela', 'shaking', 'shakespeare', 'shake', 'shakara', 'shahjahans', 'shahjahan', 'shag', 'shadow', 'shades', 'sh', 'sfrom', 'sfirst', 'sfine', 'sf', 'sexual', 'sextextukcom', 'several', 'seventeen', 'settling', 'server', 'served', 'september', 'senthilhsbc', 'senthil', 'sensitive', 'sensible', 'senrddnot', 'senor', 'sender', 'semi', 'selflessness', 'selfish', 'selfindependence', 'seing', 'sehwag', 'seh', 'sef', 'sees', 'seeno', 'seeking', 'seekers', 'secured', 'section', 'secretary', 'secondary', 'sdryb8i', 'sd', 'sculpture', 'scrumptious', 'screwd', 'scratching', 'scratches', 'scrappy', 'scores', 'scorable', 'scold', 'science', 'scenery', 'scenario', 'scarcasim', 'scammers', 'scallies', 'sc', 'sbut', 'sayy', 'sayin', 'sayask', 'satÌ', 'satsoundåÕs', 'satsgettin', 'satlove', 'satisfy', 'sathy', 'satanic', 'sariyag', 'saristar', 'sarcastic', 'sara', 'sar', 'sapna', 'sao', 'santha', 'sankranti', 'sang', 'samus', 'sameso', 'sambarlife', 'samantha', 'samachara', 'salespee', 'sales', 'salam', 'salad', 'sake', 'safety', 'safely', 'saeed', 'sacked', 'sack', 'sachinjust', 'sac', 's89', 's3xy', 'ryder', 'ryan', 'rv', 'rupaul', 'runninglets', 'rummer', 'rules', 'rule', 'ruining', 'ruin', 'rugby', 'rudi', 'rubber', 'rub', 'rto', 'rtm', 'rtking', 'rstm', 'rsi', 'rs5', 'rr', 'rpl', 'rp176781', 'rounds', 'rounderso', 'rough', 'roses', 'ros', 'rons', 'romcapspam', 'rolled', 'roles', 'rodger', 'rodds1', 'robs', 'rob', 'roadsrvx', 'risks', 'rip', 'rinu', 'ringtoneking', 'ringtonefrom', 'ringsreturn', 'ringing', 'rimac', 'rileys', 'rights', 'rightly', 'rightio', 'ridden', 'rgent', 'rgds', 'rg21', 'rewarding', 'reverse', 'reunion', 'returning', 'retired', 'retard', 'resume', 'resubmit', 'resubbing', 'resub', 'restuwud', 'restrictions', 'restrict', 'restocked', 'restock', 'responsible', 'resolution', 'reslove', 'resizing', 'residency', 'reset', 'reserves', 'reserved', 'reserve', 'reservations', 'reschedule', 'requires', 'requirements', 'required', 'republic', 'reppurcussions', 'replys150', 'replybe', 'replacing', 'repent', 'repairs', 'repair', 'renting', 'renewal', 'removal', 'reminds', 'reminded', 'remembrs', 'remembr', 'rememberi', 'remb', 'reltnship', 'relieved', 'reliant', 'relaxing', 'relatives', 'relationshipits', 'relation', 'related', 'rejected', 'regretted', 'regret', 'registration', 'reg', 'refundedthis', 'refund', 'refreshed', 'reformat', 'reflex', 'reflection', 'reffering', 'references', 'ref9307622', 'redred', 'redim', 'redeemable', 'recycling', 'records', 'recorded', 'recognises', 'reckon', 'recieve', 'rechargerakhesh', 'recharged', 'recharge', 'reception', 'receiving', 'receivea', 'recdthirtyeight', 'rec', 'rebtel', 'rebooting', 'reboot', 'rebel', 'realizes', 'realized', 'realised', 'real1', 'readyall', 'readiness', 'reacting', 'reache', 'rct', 'rcd', 'rcbbattle', 'rawring', 'raviyog', 'ratio', 'raping', 'randomly', 'randomlly', 'ralphs', 'raksha', 'rakhesh', 'rajnikant', 'rajini', 'rajas', 'raj', 'raised', 'raiden', 'rahul', 'rael', 'raed', 'radiator', 'racal', 'r836', 'quizzes', 'quizwin', 'quizclub', 'quiet', 'ques', 'que', 'qlynnbv', 'qing', 'qi', 'på£399', 'px3748', 'puzzles', 'puzzeles', 'puttin', 'pushbutton', 'purse', 'purpleu', 'pure', 'purchases', 'pura', 'punish', 'punch', 'pump', 'pulls', 'pulling', 'pull', 'pudunga', 'publish', 'pthis', 'pt2', 'psychologist', 'psychic', 'psychiatrist', 'ps3', 'province', 'provider', 'proverb', 'protect', 'pros', 'propsd', 'props', 'property', 'properly', 'proper', 'proove', 'prone', 'promptly', 'promotion', 'promised', 'prominent', 'prolly', 'projects', 'progress', 'programs', 'profiles', 'profile', 'professional', 'products', 'prods', 'processnetworking', 'processits', 'processexcellent', 'processed', 'probthat', 'problum', 'problemi', 'problemfree', 'problembut', 'problematic', 'pro', 'prizeto', 'prizeswith', 'prizes', 'priya', 'prix', 'priscillas', 'priority', 'prior', 'printing', 'printer', 'prince', 'priest', 'priceso', 'prices', 'previews', 'prevent', 'pretsovru', 'pretsorginta', 'pretend', 'prestige', 'pressure', 'pressies', 'presleys', 'presents', 'presence', 'prescription', 'prescripiton', 'prepayment', 'premium', 'premaricakindly', 'prem', 'prediction', 'predicting', 'predict', 'prebook', 'pre', 'prayingwill', 'praying', 'prayers', 'prashanthettans', 'prasad', 'praps', 'prakesh', 'praises', 'practising', 'practicum', 'practicing', 'pract', 'prabu', 'ppt150x3normal', 'ppm150', 'pple700', 'poyyarikaturkolathupalayamunjalur', 'pours', 'poured', 'pounded', 'potato', 'posts', 'postponed', 'posterode', 'postal', 'possibly', 'possiblehope', 'possibility', 'possessiveness', 'possessive', 'possession', 'positions', 'posible', 'posh', 'pose', 'portal', 'porridge', 'popping', 'popcorn', 'poortiyagi', 'poop', 'pookie', 'poo', 'ponnungale', 'pongaldo', 'polyc', 'poly3', 'poly200p', 'pokkiri', 'poking', 'poet', 'pocy', 'pockets', 'poboxox36504w45wq', 'pobox365o4w45wq', 'pobox12n146tf150p', 'pobox12n146tf15', 'pobox11414tcrw1', 'pobox1', 'pmt', 'plyr', 'plural', 'plumbingremixed', 'plumbers', 'plum', 'plsi', 'ploughing', 'pleassssssseeeeee', 'pleasant', 'playng', 'playin', 'playerwhy', 'platt', 'plate', 'planned', 'planeti', 'plaid', 'placeno', 'placement', 'placed', 'pl', 'pixels', 'pinku', 'pink', 'pimpleseven', 'pillows', 'pile', 'piggy', 'pierre', 'pictxt', 'piah', 'physics', 'phoned', 'phone750', 'phne', 'philosophical', 'phil', 'phews', 'phd', 'phasing', 'pharmacy', 'ph08704050406', 'ph08700435505150p', 'ph', 'petrolrs', 'petrol', 'peteynoiåÕm', 'petey', 'peteis', 'pest', 'pesky', 'personmeet', 'personally', 'person2die', 'persevered', 'perpetual', 'permissions', 'permission', 'permanent', 'peripherals', 'peril', 'perhaps', 'performed', 'performance', 'perform', 'percentages', 'peoples', 'pendingi', 'pending', 'pen', 'pei', 'pehle', 'peeps', 'pears', 'peak', 'pdatenow', 'paypal', 'payments', 'payed', 'payback', 'payasam', 'pattys', 'patty', 'pattern', 'paths', 'pathaya', 'path', 'patent', 'pataistha', 'passwordsatmsms', 'passthey', 'passport', 'passion', 'passes', 'passable', 'pases', 'paru', 'parts', 'particularly', 'particular', 'participate', 'parkin', 'park6ph', 'parisfree', 'parentsi', 'parchi', 'paranoid', 'paragraphs', 'paragon', 'parachute', 'paracetamol', 'paperwork', 'papers', 'papa', 'pap', 'pants', 'pansy', 'panren', 'panicks', 'panic', 'pandy', 'panasonic', 'palm', 'pale', 'painit', 'paining', 'painhope', 'pai', 'padhegm', 'packs', 'packing', 'packalso', 'paces', 'oyea', 'owo', 'ownyouve', 'owned', 'owl', 'owe', 'ovr', 'overtime', 'overheating', 'overdose', 'overa', 'ovarian', 'outta', 'outreach', 'outrageous', 'outl8r', 'outif', 'outhave', 'outgoing', 'outfor', 'outfit', 'outdoors', 'outbid', 'outages', 'outage', 'oursso', 'ouch', 'otside', 'oscar', 'ors', 'orno', 'orig', 'organizer', 'organise', 'oreos', 'ore', 'orc', 'oranges', 'orangei', 'oral', 'or2optouthv9d', 'optin', 'optimistic', 'opted', 'opps', 'opposed', 'opportunitypls', 'opportunityall', 'operate', 'openin', 'opened', 'oooooh', 'ooh', 'onum', 'onlydon', 'onlybettr', 'only1more', 'onluy', 'onlinewhy', 'onit', 'onionrs', 'oneta', 'onedge', 'ondu', 'onam', 'olympics', 'olowoyey', 'olol', 'ollubut', 'olage', 'okvarunnathu', 'okmail', 'okies', 'okey', 'okden', 'okcome', 'oil', 'oi', 'ohi', 'ohas', 'ogunrinde', 'ofsi', 'oficegot', 'ofice', 'offline', 'officewhats', 'officethenampet', 'offering', 'offered', 'offcampus', 'offc', 'odalebeku', 'october', 'oclock', 'oceand', 'occur', 'occupy', 'occupied', 'occasion', 'oblisingately', 'objection', 'obey', 'obese', 'obedient', 'oath', 'o2fwd', 'o2coukgames', 'nz', 'nyusa', 'nytec2a3lpmsg150p', 'nys', 'nvq', 'nver', 'nutter', 'nusstu', 'nus', 'nurses', 'nursery', 'numberso', 'nuerologist', 'nudist', 'nuclear', 'ntswt', 'nte', 'nri', 'nowuse', 'nowtcs', 'nowstill', 'nowsend', 'nowsavamobmember', 'nowreply', 'nowonion', 'nownyt', 'nowcan', 'nowadayslot', 'nowadays', 'november', 'novelty', 'notixiquating', 'notified', 'notifications', 'nothis', 'nothin', 'notebook', 'nosy', 'nosh', 'northampton', 'nordstrom', 'nora', 'nor', 'nooooooo', 'nookii', 'nonenowhere', 'noncomittal', 'non', 'nolistened2the', 'nokia150p', 'nojst', 'noisy', 'nohe', 'nofew', 'nobut', 'noble', 'nobbing', 'no83355', 'no434', 'nitz', 'nitros', 'nitro', 'nite2', 'nipost', 'nino', 'ninish', 'nimbomsons', 'nikiyu4net', 'nike', 'nigro', 'nigpun', 'nightsexcellent', 'nightnobody', 'nightnight', 'nighters', 'nigh', 'nig', 'nicky', 'nickey', 'nick', 'ngage', 'newspapers', 'newshype', 'newscaster', 'newsby', 'newquaysend', 'newport', 'neway', 'neville', 'nevering', 'networking', 'netno', 'nething', 'netflix', 'neshanthtel', 'neo69', 'nelson', 'neither', 'neighbors', 'neighbor', 'neglet', 'neglect', 'needy', 'needle', 'needing', 'neededsalary', 'needa', 'neck', 'necessity', 'necessary', 'necessarily', 'necesity', 'nearer', 'nearby', 'nav', 'nauseous', 'natwest', 'nattil', 'nationwide', 'naseeb', 'narcotics', 'nanny', 'nange', 'nammanna', 'namemy', 'nalli', 'nalla', 'nachos', 'naal', 'mytonecomenjoy', 'mys', 'myparents', 'mymoby', 'mylife', 'mwahs', 'mutations', 'mutai', 'musical', 'mushy', 'mush', 'mus', 'murali', 'mundhe', 'multis', 'multiply', 'multimedia', 'mudyadhu', 'muchxxlove', 'muchand', 'mtalk', 'mssuman', 'msn', 'msgwe', 'msgsubscription', 'msgsd', 'msgrcvd18', 'msg150p', 'ms', 'mrur', 'moviewat', 'motive', 'moseley', 'morphine', 'morningtake', 'mornings', 'moralone', 'moraldont', 'monthnot', 'monthlysubscription50pmsg', 'monster', 'monos', 'monoc', 'monl8rsx', 'monkeyaround', 'monkey', 'monkeespeople', 'moneyas', 'moneeppolum', 'mondaynxt', 'molestedsomeone', 'mojibiola', 'mofo', 'modules', 'module', 'modl', 'modelsony', 'mobstorequiz10ppm', 'mobsicom', 'mobs', 'mobcudb', 'mmsto', 'mmmmmm', 'ml', 'mk45', 'mittelschmertz', 'mitsake', 'mistakes', 'mist', 'missy', 'missunderstding', 'misss', 'missions', 'missionary', 'misscall', 'misplaced', 'mising', 'mirror', 'minus', 'mint', 'minstand', 'mins100txtmth', 'minimum', 'minecraft', 'mineall', 'mindsetbelieve', 'minded', 'minapn', 'miltazindgi', 'millions', 'millers', 'miles', 'mila', 'miiiiiiissssssssss', 'middle', 'mia', 'mi', 'mfl', 'mf', 'meummifyingbye', 'messed', 'messagestext', 'mess', 'meshe', 'merememberin', 'merely', 'meowd', 'meow', 'mentionned', 'mentionedtomorrow', 'mention', 'mental', 'meneed', 'memory', 'memorable', 'melt', 'melody', 'melnite', 'melike', 'meive', 'meim', 'meets', 'meetitz', 'meetins', 'meetgreet', 'mee', 'meds', 'medont', 'mecause', 'meat', 'meare', 'meaningless', 'meaningful', 'mcr', 'mca', 'mc', 'mb', 'maximum', 'max6month', 'maturity', 'matthew', 'matters', 'mattermsg', 'matric', 'matra', 'mathematics', 'mathe', 'matched', 'mat', 'masters', 'masteriastering', 'massagetiepos', 'massages', 'mary', 'marsms', 'marriageprogram', 'marrgeremembr', 'marley', 'marking', 'marketing', 'market', 'margaret', 'maretare', 'maraikara', 'maps', 'manual', 'maniac', 'manege', 'mandy', 'manage', 'mallika', 'mall', 'male', 'malarky', 'malaria', 'makiing', 'magicalsongsblogspotcom', 'magic', 'maggi', 'mag', 'madthen', 'madstini', 'madoke', 'madodu', 'madamregret', 'madam', 'mad2', 'mad1', 'mad', 'macs', 'mack', 'machines', 'machiany', 'macha', 'macedonia', 'maaaan', 'm8', 'm6', 'm39m51', 'm221bp', 'lyk', 'lying', 'lv', 'lux', 'luvs', 'luvd', 'luton', 'lunchyou', 'lunchtime', 'lul', 'luks', 'lucyxx', 'lucozadecoukwrc', 'lucozade', 'luckily', 'luck2', 'lubly', 'lttrs', 'ltemailgt', 'ltdhelpdesk', 'ls278bb', 'ls1', 'lowcost', 'low', 'lovingly', 'lovin', 'loverakhesh', 'lovejen', 'loveable', 'lov', 'lou', 'lotwill', 'lotto', 'lotta', 'lotsly', 'losers', 'lord', 'lool', 'looked', 'lololo', 'lolnice', 'loko', 'logosmusicnews', 'logos', 'logoff', 'lodging', 'lodge', 'locks', 'lock', 'locaxx', 'lobby', 'loans', 'lnly', 'lmaonice', 'lm', 'lkpobox177hp51fl', 'lived', 'listn', 'listening2the', 'listener', 'listed', 'liquor', 'lipo', 'lions', 'lionp', 'lionm', 'linux', 'links', 'lingo', 'lingerie', 'lined', 'lindsay', 'limits', 'limited', 'lim', 'lil', 'likingbe', 'likeyour', 'lightly', 'lighters', 'lifting', 'lifted', 'lifethis', 'lifeis', 'lifebook', 'lifeand', 'lies', 'libertines', 'lib', 'level', 'leu', 'lesser', 'les', 'leonas', 'leonardo', 'leo', 'lennon', 'length', 'lekdog', 'leftovers', 'learned', 'leannewhat', 'league', 'leads', 'leadership', 'le', 'lccltd', 'laying', 'laxinorficated', 'law', 'laurie', 'laundry', 'laughs', 'latests', 'lateso', 'latelyxxx', 'lately', 'latei', 'lasting', 'lastest', 'lasagna', 'lark', 'large', 'lara', 'lapdancer', 'lap', 'lanre', 'lanka', 'language', 'lane', 'landlines', 'landlineonly', 'lancaster', 'lambu', 'lambda', 'lakhs', 'laidwant', 'lager', 'lag', 'laden', 'lacking', 'lac', 'labor', 'la32wu', 'l8tr', 'l8', 'l', 'kyou', 'kvb', 'kuch', 'ku', 'ktv', 'kthen', 'korte', 'korli', 'korean', 'korche', 'konw', 'kodthini', 'kodstini', 'kochi', 'ko', 'knowyetunde', 'knowwait', 'knowthis', 'known', 'knowhe', 'knocking', 'knickers', 'knees', 'kl341', 'kkyesterday', 'kkwhat', 'kkits', 'kkgoodstudy', 'kkfrom', 'kkare', 'kkapo', 'kkany', 'kkadvance', 'kitty', 'kittum', 'kissing', 'kisi', 'kingdom', 'kim', 'kilos', 'kid', 'kickboxing', 'kicchu', 'kgood', 'kgive', 'keyword', 'keris', 'kens', 'keluviri', 'keeps', 'keen', 'kdo', 'kbut', 'kaypoh', 'kavalan', 'katexxx', 'karo', 'karaoke', 'kanowhr', 'kanoil', 'kanji', 'kanagu', 'kama', 'kalstiyathen', 'kall', 'kalisidare', 'kalainar', 'kaitlyn', 'kaiez', 'kaaj', 'k718', 'k61', 'justify', 'justbeen', 'jurong', 'junna', 'jungle', 'jump', 'juliana', 'jules', 'juicy', 'jsut', 'js', 'jp', 'jot', 'jos', 'jorgeshock', 'jontin', 'jones', 'jon', 'jolly', 'joinedhope', 'johnåÓsounds', 'jog', 'jod', 'jocks', 'jobs', 'joanna', 'jjc', 'jide', 'jiayin', 'jia', 'ji', 'jez', 'jet', 'jersey', 'jerry', 'jeri', 'jeremiah', 'jenne', 'jelly', 'jeetey', 'je', 'jd', 'jaykwon', 'jason', 'japanese', 'jap', 'janx', 'janinexx', 'janarige', 'jamz', 'jamsterget', 'jamstercouk', 'jamster', 'jaklin', 'jacuzzi', 'jackson', 'jackpot', 'jacket', 'jack', 'jabo', 'j89', 'iåÕve', 'iåÕm', 'iåÕllspeak', 'iåÕd', 'i\\x89Ûªm', 'iwasmarinethatåÕs', 'iwana', 'ivatte', 'itåÕs', 'itz', 'itxt', 'itwhichturnedinto', 'itu', 'ittb', 'itried2tell', 'itor', 'itna', 'itmay', 'itmail', 'itll', 'itleave', 'itjust', 'ithis', 'iter', 'items', 'itcould', 'itboth', 'isn\\x89Û÷t', 'isn\\x89Ûªt', 'ishtamayoohappy', 'isare', 'isaiahd', 'irritates', 'irritated', 'ironing', 'iron', 'ireneere', 'iraq', 'iphone', 'ipads', 'ipaditan', 'ipad', 'ip', 'iouri', 'involve', 'invoices', 'invnted', 'inviting', 'invitation', 'investigate', 'invaders', 'intrude', 'intrepid', 'intimate', 'intha', 'interviw', 'interviews', 'internetservice', 'interfued', 'intentions', 'intention', 'intend', 'instant', 'installing', 'installation', 'install', 'inst', 'inspection', 'insha', 'insects', 'inpersonation', 'inperialmusic', 'inour', 'innu', 'innocent', 'inner', 'inlude', 'ink', 'initiate', 'ingredients', 'ing', 'infront', 'infra', 'infovipclub4u', 'infotxt82228couk', 'informedrgdsrakheshkerala', 'inforingtonekingcouk', 'inever', 'indyarockscom', 'individualtime', 'individual', 'independently', 'independence', 'indeed', 'inde', 'increments', 'incredible', 'incorrect', 'incomm', 'includes', 'imprtant', 'improve', 'impressively', 'impressed', 'impress', 'imposter', 'imposed', 'importantly', 'immunisation', 'imin', 'imf', 'imaginationmy', 'images', 'image', 'ilol', 'iknow', 'ikno', 'ijust', 'ignorant', 'ifink', 'iff', 'idu', 'idps', 'idc', 'icon', 'icky', 'icic', 'iccha', 'ic', 'ibuprofens', 'ibn', 'ibm', 'hypotheticalhuagauahahuagahyuhagga', 'hypertension', 'hwd', 'hvae', 'hustle', 'hussey', 'hurricanes', 'hunting', 'hunt', 'hunonbus', 'hunnywot', 'hunnyhope', 'hunlove', 'hunks', 'hungover', 'hundreds', 'hundredhe', 'hundred', 'humans', 'hum', 'huiming', 'hui', 'hugs', 'hugh', 'huge', 'hudgi', 'hubby', 'huai', 'httpwwwetlpcoukreward', 'httpwwwbubbletextcom', 'httpwap', 'httptms', 'httpimg', 'httpgotbabescouk', 'httpdoit', 'httpalto18coukwavewaveaspo44345', 'html', 'hppnss', 'hp20', 'hp', 'howve', 'howre', 'howdy', 'howda', 'housing', 'housework', 'housewives', 'houseful', 'hourish', 'hottest', 'hotmix', 'hotels', 'hostbased', 'horse', 'horniest', 'hor', 'hopes', 'hopeful', 'hoops', 'hooked', 'honeymoon', 'honeydid', 'honesty', 'honestly', 'honest', 'homelove', 'homeleft', 'homecheck', 'homebut', 'holy', 'hollalater', 'hole', 'hogolo', 'hogli', 'hogidhechinnu', 'hockey', 'hmv1', 'hmmmy', 'hmmmkbut', 'hmmmhow', 'hmmbad', 'hme', 'hlp', 'hittng', 'hitteranyway', 'hitman', 'hisher', 'hire', 'himthen', 'himso', 'himself', 'hillsborough', 'hills', 'hilariousalso', 'highest', 'hiding', 'hide', 'hicts', 'hhahhaahahah', 'heåÕs', 'heygreat', 'hex', 'hesitation', 'hesitate', 'herwill', 'herwho', 'hershe', 'heron', 'heroi', 'hermy', 'hereremember', 'herepls', 'hep', 'hen', 'helpful', 'help08718728876', 'help08714742804', 'help08700621170150p', 'help08700469649', 'helloyou', 'helloooo', 'hellodrivby0quit', 'heehee', 'hectic', 'heartsnot', 'hearts', 'heartheart', 'hearted', 'hearing', 'healer', 'heal', 'head\\x89Û', 'headstart', 'hdd', 'hcl', 'haventcn', 'haven', 'hava', 'haul', 'hasbroin', 'harri', 'harlem', 'harishs', 'hari', 'hardest', 'happily', 'happier', 'happenin', 'hanumanji', 'hanks', 'hangin', 'hanger', 'handsomes', 'handsome', 'handle', 'handing', 'hamster', 'hamper', 'halla', 'hall', 'half8th', 'hairdressers', 'hail', 'hahatake', 'hahahause', 'hadya', 'hadnt', 'hack', 'habbahw', 'h', 'gymnastics', 'gving', 'gv', 'gurl', 'guoyang', 'gumbys', 'guitar', 'guild', 'guessin', 'guesses', 'gudnyt', 'gudnite', 'gudni8', 'gudk', 'gua', 'gs', 'grumpy', 'grr', 'growrandom', 'grown', 'growing', 'grow', 'groundamla', 'ground', 'groovying', 'groovy', 'grooved', 'grinule', 'grinder', 'grief', 'greeting', 'greeni', 'greece', 'greatness', 'greatbye', 'gray', 'gravel', 'grave', 'grateful', 'granted', 'grandmas', 'grandfather', 'grams', 'grahmbell', 'grace', 'grab', 'gr8fun', 'gower', 'gowait', 'gotto', 'gotany', 'gota', 'gossx', 'gosh', 'gopalettan', 'goodwhen', 'goodtimeoli', 'goods', 'goodno', 'goodnite', 'goodmorningmy', 'goodmate', 'goodies', 'goodfriend', 'goodfine', 'goodevening', 'goodenvironment', 'gooddhanush', 'gonnamissu', 'gong', 'goneu', 'gon', 'golden', 'golddigger', 'goin2bed', 'goggles', 'godtaken', 'godnot', 'gobi', 'goalsteam', 'goal', 'go2sri', 'gnarls', 'gn', 'gmw', 'gm', 'gloucesterroad', 'glory', 'glorious', 'global', 'glo', 'glass', 'glasgow', 'giv', 'gist', 'girlie', 'girlfrnd', 'girld', 'gimmi', 'giggle', 'gifts', 'gifted', 'gibe', 'ghodbandar', 'getzedcouk', 'getsleep', 'geting', 'getiing', 'germany', 'gep', 'gei', 'geelater', 'geeeee', 'gdthe', 'gdnow', 'gbpweek', 'gbpsms', 'gbp5month', 'gbp450week', 'gbp150week', 'gbp', 'gaze', 'gayle', 'gauge', 'gate', 'gari', 'garbage', 'gandhipuram', 'galileo', 'gained', 'gail', 'ga', 'g2', 'fwiw', 'fusion', 'funs', 'funk', 'funeral', 'fundamentals', 'functions', 'function', 'fulfil', 'ful', 'fuelled', 'fudge', 'fucks', 'ft', 'frwd', 'frosty', 'front', 'frog', 'fro', 'frnt', 'frndz', 'frndsship', 'frndshp', 'fring', 'friendships', 'friendshipmotherfatherteacherschildrens', 'friendsare', 'fridge', 'fridayhope', 'fret', 'freshers', 'fresh', 'french', 'freeringtonereply', 'freeringtone', 'freenokia', 'freemsgfeelin', 'freemsgfav', 'freemessage', 'freely', 'freek', 'freedom', 'fredericksburg', 'freaky', 'freaked', 'franyxxxxx', 'frankgood', 'fraction', 'fps', 'fox', 'fourth', 'forwarding', 'forth', 'formatting', 'format', 'formallypls', 'formal', 'forgotten', 'forgiveness', 'forgive', 'forfeit', 'forced', 'footy', 'footie', 'footblcrckt', 'foot', 'fools', 'fooled', 'fones', 'fondly', 'fond', 'followin', 'folks', 'foley', 'fmyou', 'flyng', 'flying', 'fly', 'flute', 'flurries', 'flung', 'fluids', 'flowers', 'flow', 'flood', 'floating', 'flirting', 'flippin', 'flip', 'flim', 'flies', 'fletcher', 'flea', 'flaky', 'flaked', 'fixes', 'fishrman', 'fishhead', 'firesare', 'fireplace', 'firefox', 'fire', 'finns', 'fink', 'finest', 'fineinshah', 'finds', 'finding', 'financial', 'finance', 'finalise', 'filthyguys', 'filth', 'filling', 'filled', 'figuring', 'fights', 'fifty', 'fifth', 'fifa', 'fieldof', 'fidalfication', 'ffffffffff', 'fffff', 'fetching', 'festival', 'feng', 'fellow', 'fell', 'fees', 'feelingwavering', 'fedex', 'febapril', 'feathery', 'fav', 'faultfed', 'faultal', 'fatty', 'fats', 'fated', 'fastpls', 'fastest', 'fans', 'famous', 'famamus', 'fals', 'fallen', 'falconerf', 'fal', 'fakeyes', 'fakemy', 'fake', 'faith', 'fainting', 'fails', 'faglord', 'faggy', 'faded', 'facts', 'factory', 'faceasssssholeeee', 'faber', 'fab', 'eå£nd', 'eye', 'exwife', 'extreme', 'exterminator', 'ext', 'expression', 'express', 'exposes', 'explicitly', 'expiry', 'expiredso', 'expired', 'expert', 'experiment', 'expensive', 'expected', 'exp', 'exmpel', 'exist', 'exhibition', 'exhaust', 'exercise', 'exe', 'excused', 'excited', 'ew', 'evrydy', 'evrey', 'evo', 'evil', 'everywhere', 'everytime', 'everythin', 'everyso', 'everyones', 'everyboy', 'everybody', 'every1', 'events', 'evenings', 'evei', 'eveb', 'evaporated', 'evaluation', 'eurodisinc', 'ethreats', 'ethnicity', 'eternal', 'eta', 'establish', 'espell', 'ese', 'escalator', 'erything', 'erupt', 'eruku', 'ertini', 'errors', 'err', 'ericsson', 'ericson', 'er', 'equally', 'epi', 'envy', 'entropication', 'entrepreneurs', 'entirely', 'entire', 'entey', 'entertaining', 'entertain', 'enters', 'enketa', 'enjoyin', 'engin', 'engalnd', 'engaged', 'enemies', 'endowed', 'enc', 'enamous', 'employers', 'employee', 'emigrated', 'emergency', 'embassy', 'embarrassed', 'embarassing', 'emailed', 'elvis', 'ello', 'elliot', 'elephant', 'eldest', 'elaya', 'elama', 'elaine', 'elaborating', 'el', 'eightish', 'eighth', 'eh74rr', 'ego', 'eggspert', 'eggpotato', 'egg', 'egbon', 'eg23g', 'eg23f', 'effects', 'effect', 'eerulli', 'eek', 'edukkukayee', 'edrunk', 'edition', 'edison', 'edhae', 'edge', 'ecstasy', 'eckankar', 'eaten', 'east', 'easily', 'easiest', 'ears', 'earning', 'earn', 'earliest', 'earlierwe', 'ear', 'eachother', 'e14', 'dying', 'dwn', 'dust', 'dusk', 'durham', 'durban', 'duo', 'dungerees', 'dumb', 'duffer', 'dudes', 'ducking', 'duchess', 'dubsack', 'dub', 'dt', 'dryer', 'drvgsto', 'drunken', 'drunkard', 'drum', 'drugdealer', 'drpd', 'drove', 'drops', 'drms', 'drizzling', 'drinkpa', 'dress', 'dreamz', 'dreamsu', 'dreamlove', 'draws', 'drawplease', 'dramatic', 'dramastorms', 'drama', 'dps', 'dozens', 'downstem', 'downs', 'downon', 'downloaded', 'dough', 'doug', 'doubt', 'doubletxt', 'doubles', 'doublemins', 'doublefaggot', 'dosomething', 'dose', 'dorothykiefercom', 'dooms', 'donyt', 'dontcha', 'dont4get2text', 'donno', 'donewant', 'domain', 'dolld', 'dollar', 'doke', 'dointerested', 'doinghow', 'doinat', 'dogs', 'doggin', 'dogg', 'dogbreath', 'doesnåÕt', 'doesn\\x89Û÷t', 'doesdiscountshitinnit', 'dodgey', 'dodda', 'documents', 'doctors', 'dock', 'dobbys', 'dobby', 'dob', 'dlf', 'dled', 'dl', 'dizzee', 'dizzamn', 'divert', 'ditto', 'disturbing', 'disturbancemight', 'dismissial', 'dismay', 'diskyou', 'discussed', 'disconnected', 'disconnect', 'disc', 'disastrous', 'disasters', 'disappeared', 'dirt', 'directors', 'director', 'dippeditinadew', 'dinnermsg', 'ding', 'dinero', 'dined', 'dine', 'dimension', 'dileepthank', 'digits', 'digi', 'difficulties', 'difference', 'differbe', 'differ', 'dieting', 'diesel', 'didnåÕt', 'didn\\x89Û÷t', 'didntgive', 'diddy', 'dict', 'dice', 'dialogue', 'di', 'dha', 'devouring', 'devils', 'developer', 'developed', 'deus', 'detroit', 'determined', 'determine', 'detailsi', 'detailed', 'detail', 'destiny', 'destination', 'dessert', 'despite', 'desperate', 'desparately', 'desires', 'designation', 'deserve', 'desert', 'description', 'describe', 'derp', 'dereks', 'der', 'deposited', 'deposit', 'dependents', 'dependable', 'department', 'dentist', 'dent', 'dengra', 'dena', 'demand', 'deltomorrow', 'delicious', 'delayed', 'delay', 'dehydration', 'degrees', 'degree', 'defo', 'deeraj', 'deepak', 'deduct', 'decking', 'deck', 'dec', 'deartake', 'dearshall', 'dearregret', 'dearrakhesh', 'dearme', 'dearloving', 'deam', 'deals', 'dealfarm', 'dealers', 'deadwell', 'dd', 'daywith', 'daytime', 'daysÌ¬n', 'dayswill', 'daysso', 'dayexcept', 'dawns', 'dawhats', 'daurgent', 'datoday', 'data', 'dasara', 'das', 'dartboard', 'darlings', 'darker', 'dao', 'danger', 'dang', 'dane', 'dancin', 'dancce', 'danalla', 'dan', 'dammit', 'dagood', 'dads', 'dabooks', 'dabbles', 'daal', 'cysts', 'cyclists', 'cya', 'cutting', 'cutter', 'cutie', 'cutest', 'custom', 'curtsey', 'curfew', 'cuppa', 'cumin', 'cultures', 'cudnt', 'cuddled', 'cuck', 'cttergg', 'ctter', 'cttargg', 'ctla', 'cthen', 'ctargg', 'ctagg', 'cstore', 'cst', 'crying', 'crushes', 'cruisin', 'crucify', 'crucial', 'cro1327', 'crisisspk', 'cried', 'crickiting', 'cresubi', 'creep', 'creativity', 'creative', 'crazyin', 'craziest', 'craving', 'crashing', 'crashed', 'crash', 'cramps', 'crammed', 'cr', 'cps', 'cozy', 'cozsomtimes', 'coveragd', 'cousin', 'courtroom', 'courageous', 'coupla', 'countinlots', 'couldnåÕt', 'coughing', 'cough', 'cougarpen', 'costå£375max', 'costumes', 'cosign', 'corvettes', 'corrupt', 'correctionor', 'correction', 'corrct', 'corporation', 'cornwall', 'corect', 'copies', 'copied', 'cooped', 'cooked', 'cook', 'convincingjust', 'convincing', 'convince', 'converter', 'converted', 'convenience', 'control', 'continue', 'continent', 'contention', 'constantly', 'console', 'consistently', 'conserve', 'consensus', 'cons', 'connections', 'connected', 'confuses', 'conform', 'confirmd', 'configure', 'conference', 'conected', 'condition', 'conclusion', 'concert', 'concerned', 'concern', 'concentration', 'concentrating', 'conacted', 'comuk220cm2', 'computers', 'computerless', 'computational', 'compulsory', 'compromised', 'comprehensive', 'compofstuff', 'complexities', 'completing', 'complementary', 'complaining', 'complain', 'compass', 'companion', 'companies', 'commit', 'comment', 'comingtmorow', 'comingdown', 'comfort', 'cometil', 'comei', 'comedycant', 'combination', 'comb', 'com', 'colours', 'colourredtextcolourtxtstar', 'collegexx', 'colleg', 'collages', 'coimbatore', 'cocksuckers', 'coccooning', 'cocacola', 'coaxing', 'cnn', 'cnl', 'cm', 'clue', 'club4mobilescom', 'club4', 'cloud', 'cloth', 'closingdate040902', 'clocks', 'clip', 'cliffs', 'cliff', 'cld', 'claypot', 'classmates', 'classic', 'clash', 'clarification', 'claims', 'claimcode', 'cl', 'citylink', 'citizen', 'chuckin', 'christmasmerry', 'christians', 'christ', 'chrgd50p', 'chosen', 'chores', 'chords', 'choices', 'chocolate', 'chk', 'chip', 'chiong', 'chinky', 'chinchillas', 'chinatown', 'chillaxin', 'chile', 'chikkuwat', 'chikkusimple', 'chikkuk', 'chikkuil', 'chikkugoing', 'chikkudb', 'chikkuali', 'chik', 'chickened', 'chgs', 'chg', 'chez', 'cheyyamoand', 'chest', 'cherthalain', 'cheque', 'chennaii', 'chef', 'cheetos', 'cheesy', 'cheery', 'cheered', 'cheek', 'checkup', 'checkin', 'checkboxes', 'cheating', 'cheat', 'chatter', 'chat80155', 'chase', 'charts', 'chart', 'charming', 'charlie', 'chaps', 'channel', 'changes', 'champneys', 'champlaxigating', 'champ', 'challenging', 'challenge', 'chad', 'chachi', 'certificate', 'ceri', 'cereals', 'cer', 'century', 'census', 'celebrations', 'celebrated', 'celeb', 'cedar', 'ccna', 'cc100pmin', 'caveboy', 'cave', 'causing', 'causes', 'categories', 'catches', 'casualty', 'cast', 'casing', 'cashed', 'cartons', 'carso', 'carryin', 'carry', 'carpark', 'caroline', 'carlosll', 'carlie', 'careumma', 'carente', 'careabout', 'cards', 'cardin', 'captaining', 'cantdo', 'cannt', 'canlove', 'candont', 'cancelled', 'canary', 'canal', 'cameravideo', 'calm', 'callurgent', 'callså£1minmobsmore', 'callon', 'callingforgot', 'calldrove', 'callcoz', 'callback', 'call2optoutyhl', 'call2optoutn9dx', 'call2optoutlf56', 'call2optoutj5q', 'call2optoutj', 'call2optouthf8', 'call2optoutf4q', 'call2optout674', 'call2optout4qf2', 'calis', 'calicut', 'cali', 'calculated', 'cakes', 'cage', 'cable', 'cab', 'båÕday', 'b\\x89Û÷ham', 'byåÓleafcutter', 'byatch', 'bx420', 'bx', 'buzzzz', 'buyers', 'buyer', 'buttons', 'butting', 'buttheres', 'busyi', 'busty', 'business', 'busetop', 'bus822656166382', 'burrito', 'burnt', 'burns', 'burn', 'burial', 'burgundy', 'bunkers', 'bundle', 'bunch', 'bull', 'build', 'buffy', 'buen', 'buddys', 'buddy', 'btnational', 'bsnl', 'bsn', 'brum', 'bruce', 'browsin', 'browse', 'brownies', 'brownie', 'browni', 'brothers', 'broadband', 'broad', 'british', 'brin', 'brilliantly', 'brilliant1thingi', 'brighten', 'bridgwater', 'bridge', 'bribe', 'breeze', 'breather', 'breathe1', 'breaking', 'breakin', 'breakfast', 'breadstick', 'bread', 'brdget', 'braved', 'brats', 'bras', 'brainy', 'brains', 'brainless', 'brain', 'bpo', 'boyfriend', 'boyf', 'box61m60', 'box434sk38wp150ppm18', 'box42wr29c', 'box420', 'box403', 'box385', 'box334sk38ch', 'box334', 'box245c2150pm', 'box177', 'box139', 'box1146', 'bowls', 'bowa', 'boutxx', 'boughtåÓbraindanceåÓa', 'bothering', 'born', 'borderline', 'bootydelious', 'booty', 'boooo', 'bookshelf', 'bookmark', 'boltblue', 'bollox', 'bold2', 'bognor', 'boggy', 'board', 'blueu', 'bluetoothhdset', 'blown', 'bloodblood', 'blonde', 'blogging', 'blog', 'blocked', 'block', 'blimey', 'blessings', 'blessget', 'bless', 'bleak', 'blastin', 'blankets', 'blanket', 'blanked', 'blackim', 'blackand', 'bk', 'bits', 'bites', 'birthdate', 'birth', 'biro', 'biola', 'bilo', 'bills', 'billed', 'bike', 'biatch', 'bian', 'bhayandar', 'bhaskar', 'bfore', 'beyond', 'bettersn', 'betta', 'beth', 'beta', 'bestrply', 'bestcongrats', 'benefits', 'beneath', 'bend', 'beloved', 'belongs', 'belligerent', 'bellearlier', 'bell', 'behind', 'begun', 'begins', 'beggar', 'beforewent', 'beforehand', 'befor', 'beers', 'beerrs', 'beerage', 'beehoon', 'bedroomlove', 'bedrm900', 'becz', 'becausethey', 'becaus', 'beautifulmay', 'beauties', 'beads', 'beach', 'bcum', 'bcmsfwc1n3xx', 'bcm4284', 'bcm', 'bck', 'bc', 'bbs', 'bbq', 'bbdpooja', 'bbc', 'batt', 'batsman', 'bathroom', 'batchlor', 'basqihave', 'baskets', 'basketball', 'bash', 'bars', 'barred', 'barolla', 'barkleys', 'bari', 'bare', 'barcelona', 'barbie', 'bao', 'banter', 'banneduk', 'banned', 'bani', 'bangbabes', 'bangb', 'bandages', 'bambling', 'bam', 'balloon', 'bakrid', 'bakra', 'baig', 'bags', 'badrith', 'badly', 'backdoor', 'backa', 'bac', 'babysitting', 'babysit', 'babyjontet', 'babyhope', 'babygoodbye', 'babies', 'baaaaabe', 'ba128nnfwfly150ppm', 'b4u', 'aå£150', 'ayn', 'ay', 'axis', 'ax', 'avoids', 'avoiding', 'avo', 'avenge', 'avble', 'avalarr', 'availablethey', 'availablei', 'availa', 'ava', 'av', 'autocorrect', 'authorise', 'aust', 'aunties', 'auntie', 'audrie', 'audreys', 'audrey', 'auctionpunj', 'atyour', 'attributed', 'attracts', 'attractioni', 'attitude', 'attending', 'atten', 'attached', 'attach', 'atrocious', 'atm', 'atleast', 'atlast', 'athome', 'athletic', 'asusual1', 'asus', 'astoundingly', 'astne', 'asthere', 'assumed', 'associate', 'asshole', 'aspects', 'ashleys', 'asa', 'arul', 'arty', 'arts', 'artists', 'art', 'arsenal', 'arrow', 'arrived', 'arrival', 'arranging', 'arr', 'arpraveesh', 'aroundn', 'arnt', 'arngd', 'armenia', 'armands', 'armand', 'arm', 'arithmetic', 'arises', 'arise', 'aries', 'arguments', 'arguing', 'argentina', 'aretaking', 'arestaurant', 'arabian', 'aptitude', 'apt', 'aproach', 'appropriate', 'approaching', 'approaches', 'appreciated', 'appointments', 'applying', 'apply2', 'applespairsall', 'applebees', 'appendix', 'appear', 'appeal', 'apology', 'apologize', 'apologetic', 'apnt', 'aphexåÕs', 'apeshit', 'apes', 'anythingtomorrow', 'anythings', 'anyplaces', 'anyhow', 'anybodys', 'antelope', 'answr', 'annoyin', 'announced', 'annoncement', 'annie', 'anjolas', 'anjie', 'animal', 'angels', 'andrewsboy', 'andor', 'anand', 'analysis', 'anal', 'ana', 'amy', 'amx', 'ams', 'amrita', 'amplikater', 'amore', 'ammo', 'ammaelife', 'amk', 'amigos', 'ami', 'ambrithmaduraimet', 'ambitious', 'alwa', 'although', 'alternativehope', 'alter', 'alsoor', 'alritehave', 'alrightokay', 'alreadysabarish', 'alot', 'alls', 'allowed', 'allow', 'allo', 'alle', 'allalo', 'allahrakhesh', 'allahmeet', 'alivebetter', 'alive', 'alibi', 'alian', 'ali', 'algorithms', 'alexs', 'alerts', 'alertfrom', 'aldrine', 'albumquite', 'album', 'ak', 'aiyar', 'airtel', 'air1', 'aig', 'aids', 'aid', 'ahwhat', 'ahthe', 'ahold', 'ahnow', 'ahhh', 'ahgee', 'aging', 'agidhane', 'agesring', 'agents', 'agent', 'agency', 'age23', 'age16150ppermesssubscription', 'againloving', 'againcall', 'afternoons', 'afternon', 'african', 'afghanistan', 'afford', 'affidavit', 'affectionsamp', 'affairs', 'affair', 'advising', 'adventure', 'adults', 'adrian', 'adore', 'admiti', 'admit', 'admin', 'adi', 'adewale', 'addressull', 'addie', 'acwicmb3cktz8r74', 'activities', 'acting', 'actin', 'act', 'acsmsrewards', 'acoentry41', 'acnt', 'acknowledgement', 'acid', 'achieve', 'accumulation', 'accounting', 'accordinglyor', 'accordingly', 'accordin', 'accomodations', 'accomodate', 'accommodation', 'accident', 'accidant', 'accenture', 'abusers', 'abroad', 'above', 'aboutas', 'abnormally', 'abj', 'aberdeen', 'abel', 'abeg', 'abbey', 'ab', 'aaooooright', 'aaniye', 'aah', 'a30', 'a21', '9yt', '9th', '9funny', '9am', '9996', '97n7qp', '95pax', '945', '924', '9153', '9061100010', '900', '8wp', '8o', '8lb', '8attractive', '89105', '89034', '88888', '88877free', '88877', '88800', '8830', '88039skilgmetscs087147403231winawkage16å£150perwksub', '8714714', '87070', '863', '861', '85555', '85233', '85222', '850', '84484', '84122', '84', '83435', '83370', '83332please', '83110', '83049', '83021', '82324', '82277unsub', '81618', '81010', '80s', '80878', '8077', '80488biz', '8027', '80160', '80155', '80122300pwk', '7shy', '7pm', '7oz', '7mahaveer', '7am', '78pmin', '7732584351', '7548', '74355', '730pm', '730ish', '7250', '725', '700', '6wu', '6romantic', '6ramaduth', '6missed', '6ish', '69988', '69969', '69911å£150p', '69888nyt', '69876', '6986618', '69855', '69669', '69200', '69101', '68866', '67441233', '6669', '650', '645pm', '645', '62468', '6230', '62220cncl', '61200', '60p', '6031', '600', '5years', '5wq', '5wkg', '5sankatmochan', '5ish', '5ful', '5free', '5digital', '5903', '545', '54', '532', '528', '526', '5226', '515', '50s', '505060', '4wrd', '4w', '4ui', '4txtÌ¼120', '4txt120p', '4the', '4some1', '4rowdy', '4pavanaputra', '4o', '4lux', '4jx', '4goten', '4got', '4give', '4few', '4882', '46', '450p', '449month', '449071512431', '449050000301', '448712404000please', '447per', '447801259231', '4403ldnw1a7rw18', '44', '434', '42478', '420', '41782', '415', '40533', '4041', '400minscall', '400', '3xå£150pw', '3unkempt', '3u', '3ss', '3sentiment', '3pound', '3optical', '3miles', '3maruti', '3db', '3days', '3aj', '391784', '3680offer', '3650', '35p', '330', '32f', '32323', '3230', '311004', '310303', '3100', '31', '30th', '30pptxt', '30apr', '300603', '3000', '2yr', '2years', '2wt', '2wks', '2waxsto', '2untamed', '2stoptx', '2stop', '2rcv', '2px', '2optoutd3wv', '2nitetell', '2nights', '2nhite', '2naughty', '2morro', '2marrow', '2kbsubject', '2hrs', '2gthr', '2godid', '2geva', '2getha', '2exit', '2channel', '2bajarangabali', '290305', '28thfebtcs', '28th', '28days', '285', '2814032', '27603', '2703', '260305', '24m', '247mp', '241004', '230ish', '2309', '220cm2', '21m', '215', '20m12aq', '2007', '2006', '1yf', '1winaweek', '1unbreakable', '1u', '1stone', '1stchoicecouk', '1st4terms', '1pm', '1month', '1mcflyall', '1im', '1hanuman', '1er', '1da', '1childish', '195', '18ptxt', '186å£150morefrmmob', '1843', '181104', '169', '1680', '15pmin', '150psms', '150prcvd', '150ppmsg', '150ppmpobox10183bhamb64xe', '150ppermesssubscription', '150pmt', '14thmarch', '146tf150p', '140ppm', '1405', '12price', '12hours', '1225', '1205', '12000pes', '120', '1148', '1131', '1120', '10th', '10am9pm', '10am', '10803', '101mega', '1010', '100s', '100psms', '100603', '10000', '0anetworks', '09701213186', '09111032124', '09111030116', '09099726553', '09099726481', '09099726429', '09099726395', '09099725823', '09096102316', '09094100151', '09090900040', '09090204448', '09071517866', '09066660100', '09066382422', '09066368753', '09066368470', '09066368327', '09066364349', '09066362220', '09066362206', '09066358361', '09066350750', '09065989182', '09065989180', '09065394973', '09065394514', '09065171142stopsms08', '09065069154', '09065069120', '09064019788', '09064019014', '09064018838', '09064012103', '09063442151', '09063440451', '09061749602', '09061743811', '09061743810', '09061743386', '09061702893', '09061701939', '09061701851', '09061701461', '09061701444', '09061221061', '09061104283', '09061104276', '09058098002', '09058097218', '09058097189', '09058095201', '09058095107', '09058094599', '09058094597', '09058094594', '09058094455', '09058094454', '09058091854', '09057039994', '09053750005', '09050280520', '09050005321', '09050001295', '09050000928', '09050000878', '09050000555', '09050000460', '09050000301', '09041940223', '08719899230', '08719899217', '08719181503', '08719181259', '08718738034', '08718738001', '08718730666', '08718730555', '08718729755', '08718726978', '08718726971', '08718726970', '08718725756', '08718723815', '08718711108', '08717895698', '08717890890å£150', '08717507711', '08717205546', '08717168528', '08715500022', '08715203694', '08715203677', '08715203028', '08714719523', '08714714011', '08714712394', '08714712388', '08714712379', '087147123779am7pm', '0871277810910pmin', '08712466669', '08712460324nat', '08712404000', '08712402972', '08712402902', '08712402779', '08712400603', '08712400200', '08712317606', '087123002209am7pm', '0871212025016', '08712103738']\n",
            "len(vocabulary) = 7900\n"
          ]
        }
      ]
    },
    {
      "cell_type": "markdown",
      "source": [
        "**Apply TextVec to train, val, test set**"
      ],
      "metadata": {
        "id": "ImhapB6r8JLN"
      }
    },
    {
      "cell_type": "code",
      "source": [
        "X_train_int = text_vectorization(X_train)\n",
        "X_val_int = text_vectorization(X_val)\n",
        "X_test_int = text_vectorization(X_test)"
      ],
      "metadata": {
        "id": "RzCqHUPy8Ghf"
      },
      "execution_count": null,
      "outputs": []
    },
    {
      "cell_type": "code",
      "source": [
        "X_train[:1]\n"
      ],
      "metadata": {
        "colab": {
          "base_uri": "https://localhost:8080/",
          "height": 115
        },
        "id": "myiu-yJX85Yh",
        "outputId": "68c5680c-ebfd-4fef-fa88-01a22c969748"
      },
      "execution_count": null,
      "outputs": [
        {
          "output_type": "execute_result",
          "data": {
            "text/plain": [
              "0    Go until jurong point, crazy.. Available only ...\n",
              "Name: text, dtype: object"
            ],
            "text/html": [
              "<div>\n",
              "<style scoped>\n",
              "    .dataframe tbody tr th:only-of-type {\n",
              "        vertical-align: middle;\n",
              "    }\n",
              "\n",
              "    .dataframe tbody tr th {\n",
              "        vertical-align: top;\n",
              "    }\n",
              "\n",
              "    .dataframe thead th {\n",
              "        text-align: right;\n",
              "    }\n",
              "</style>\n",
              "<table border=\"1\" class=\"dataframe\">\n",
              "  <thead>\n",
              "    <tr style=\"text-align: right;\">\n",
              "      <th></th>\n",
              "      <th>text</th>\n",
              "    </tr>\n",
              "  </thead>\n",
              "  <tbody>\n",
              "    <tr>\n",
              "      <th>0</th>\n",
              "      <td>Go until jurong point, crazy.. Available only ...</td>\n",
              "    </tr>\n",
              "  </tbody>\n",
              "</table>\n",
              "</div><br><label><b>dtype:</b> object</label>"
            ]
          },
          "metadata": {},
          "execution_count": 19
        }
      ]
    },
    {
      "cell_type": "code",
      "source": [
        "X_train_int[:1]"
      ],
      "metadata": {
        "colab": {
          "base_uri": "https://localhost:8080/"
        },
        "collapsed": true,
        "id": "KKWF-f2o9q5D",
        "outputId": "dcc82f5d-1c6b-4e27-f126-c06dbf7ca0fa"
      },
      "execution_count": null,
      "outputs": [
        {
          "output_type": "execute_result",
          "data": {
            "text/plain": [
              "<tf.Tensor: shape=(1, 1000), dtype=int64, numpy=\n",
              "array([[  54,  378, 5722,  711,  744,  679,   69,   10, 1225,   89,  125,\n",
              "         341, 1367,  143, 3211, 1069,   67,   61, 7391,  135,    0,    0,\n",
              "           0,    0,    0,    0,    0,    0,    0,    0,    0,    0,    0,\n",
              "           0,    0,    0,    0,    0,    0,    0,    0,    0,    0,    0,\n",
              "           0,    0,    0,    0,    0,    0,    0,    0,    0,    0,    0,\n",
              "           0,    0,    0,    0,    0,    0,    0,    0,    0,    0,    0,\n",
              "           0,    0,    0,    0,    0,    0,    0,    0,    0,    0,    0,\n",
              "           0,    0,    0,    0,    0,    0,    0,    0,    0,    0,    0,\n",
              "           0,    0,    0,    0,    0,    0,    0,    0,    0,    0,    0,\n",
              "           0,    0,    0,    0,    0,    0,    0,    0,    0,    0,    0,\n",
              "           0,    0,    0,    0,    0,    0,    0,    0,    0,    0,    0,\n",
              "           0,    0,    0,    0,    0,    0,    0,    0,    0,    0,    0,\n",
              "           0,    0,    0,    0,    0,    0,    0,    0,    0,    0,    0,\n",
              "           0,    0,    0,    0,    0,    0,    0,    0,    0,    0,    0,\n",
              "           0,    0,    0,    0,    0,    0,    0,    0,    0,    0,    0,\n",
              "           0,    0,    0,    0,    0,    0,    0,    0,    0,    0,    0,\n",
              "           0,    0,    0,    0,    0,    0,    0,    0,    0,    0,    0,\n",
              "           0,    0,    0,    0,    0,    0,    0,    0,    0,    0,    0,\n",
              "           0,    0,    0,    0,    0,    0,    0,    0,    0,    0,    0,\n",
              "           0,    0,    0,    0,    0,    0,    0,    0,    0,    0,    0,\n",
              "           0,    0,    0,    0,    0,    0,    0,    0,    0,    0,    0,\n",
              "           0,    0,    0,    0,    0,    0,    0,    0,    0,    0,    0,\n",
              "           0,    0,    0,    0,    0,    0,    0,    0,    0,    0,    0,\n",
              "           0,    0,    0,    0,    0,    0,    0,    0,    0,    0,    0,\n",
              "           0,    0,    0,    0,    0,    0,    0,    0,    0,    0,    0,\n",
              "           0,    0,    0,    0,    0,    0,    0,    0,    0,    0,    0,\n",
              "           0,    0,    0,    0,    0,    0,    0,    0,    0,    0,    0,\n",
              "           0,    0,    0,    0,    0,    0,    0,    0,    0,    0,    0,\n",
              "           0,    0,    0,    0,    0,    0,    0,    0,    0,    0,    0,\n",
              "           0,    0,    0,    0,    0,    0,    0,    0,    0,    0,    0,\n",
              "           0,    0,    0,    0,    0,    0,    0,    0,    0,    0,    0,\n",
              "           0,    0,    0,    0,    0,    0,    0,    0,    0,    0,    0,\n",
              "           0,    0,    0,    0,    0,    0,    0,    0,    0,    0,    0,\n",
              "           0,    0,    0,    0,    0,    0,    0,    0,    0,    0,    0,\n",
              "           0,    0,    0,    0,    0,    0,    0,    0,    0,    0,    0,\n",
              "           0,    0,    0,    0,    0,    0,    0,    0,    0,    0,    0,\n",
              "           0,    0,    0,    0,    0,    0,    0,    0,    0,    0,    0,\n",
              "           0,    0,    0,    0,    0,    0,    0,    0,    0,    0,    0,\n",
              "           0,    0,    0,    0,    0,    0,    0,    0,    0,    0,    0,\n",
              "           0,    0,    0,    0,    0,    0,    0,    0,    0,    0,    0,\n",
              "           0,    0,    0,    0,    0,    0,    0,    0,    0,    0,    0,\n",
              "           0,    0,    0,    0,    0,    0,    0,    0,    0,    0,    0,\n",
              "           0,    0,    0,    0,    0,    0,    0,    0,    0,    0,    0,\n",
              "           0,    0,    0,    0,    0,    0,    0,    0,    0,    0,    0,\n",
              "           0,    0,    0,    0,    0,    0,    0,    0,    0,    0,    0,\n",
              "           0,    0,    0,    0,    0,    0,    0,    0,    0,    0,    0,\n",
              "           0,    0,    0,    0,    0,    0,    0,    0,    0,    0,    0,\n",
              "           0,    0,    0,    0,    0,    0,    0,    0,    0,    0,    0,\n",
              "           0,    0,    0,    0,    0,    0,    0,    0,    0,    0,    0,\n",
              "           0,    0,    0,    0,    0,    0,    0,    0,    0,    0,    0,\n",
              "           0,    0,    0,    0,    0,    0,    0,    0,    0,    0,    0,\n",
              "           0,    0,    0,    0,    0,    0,    0,    0,    0,    0,    0,\n",
              "           0,    0,    0,    0,    0,    0,    0,    0,    0,    0,    0,\n",
              "           0,    0,    0,    0,    0,    0,    0,    0,    0,    0,    0,\n",
              "           0,    0,    0,    0,    0,    0,    0,    0,    0,    0,    0,\n",
              "           0,    0,    0,    0,    0,    0,    0,    0,    0,    0,    0,\n",
              "           0,    0,    0,    0,    0,    0,    0,    0,    0,    0,    0,\n",
              "           0,    0,    0,    0,    0,    0,    0,    0,    0,    0,    0,\n",
              "           0,    0,    0,    0,    0,    0,    0,    0,    0,    0,    0,\n",
              "           0,    0,    0,    0,    0,    0,    0,    0,    0,    0,    0,\n",
              "           0,    0,    0,    0,    0,    0,    0,    0,    0,    0,    0,\n",
              "           0,    0,    0,    0,    0,    0,    0,    0,    0,    0,    0,\n",
              "           0,    0,    0,    0,    0,    0,    0,    0,    0,    0,    0,\n",
              "           0,    0,    0,    0,    0,    0,    0,    0,    0,    0,    0,\n",
              "           0,    0,    0,    0,    0,    0,    0,    0,    0,    0,    0,\n",
              "           0,    0,    0,    0,    0,    0,    0,    0,    0,    0,    0,\n",
              "           0,    0,    0,    0,    0,    0,    0,    0,    0,    0,    0,\n",
              "           0,    0,    0,    0,    0,    0,    0,    0,    0,    0,    0,\n",
              "           0,    0,    0,    0,    0,    0,    0,    0,    0,    0,    0,\n",
              "           0,    0,    0,    0,    0,    0,    0,    0,    0,    0,    0,\n",
              "           0,    0,    0,    0,    0,    0,    0,    0,    0,    0,    0,\n",
              "           0,    0,    0,    0,    0,    0,    0,    0,    0,    0,    0,\n",
              "           0,    0,    0,    0,    0,    0,    0,    0,    0,    0,    0,\n",
              "           0,    0,    0,    0,    0,    0,    0,    0,    0,    0,    0,\n",
              "           0,    0,    0,    0,    0,    0,    0,    0,    0,    0,    0,\n",
              "           0,    0,    0,    0,    0,    0,    0,    0,    0,    0,    0,\n",
              "           0,    0,    0,    0,    0,    0,    0,    0,    0,    0,    0,\n",
              "           0,    0,    0,    0,    0,    0,    0,    0,    0,    0,    0,\n",
              "           0,    0,    0,    0,    0,    0,    0,    0,    0,    0,    0,\n",
              "           0,    0,    0,    0,    0,    0,    0,    0,    0,    0,    0,\n",
              "           0,    0,    0,    0,    0,    0,    0,    0,    0,    0,    0,\n",
              "           0,    0,    0,    0,    0,    0,    0,    0,    0,    0,    0,\n",
              "           0,    0,    0,    0,    0,    0,    0,    0,    0,    0,    0,\n",
              "           0,    0,    0,    0,    0,    0,    0,    0,    0,    0,    0,\n",
              "           0,    0,    0,    0,    0,    0,    0,    0,    0,    0,    0,\n",
              "           0,    0,    0,    0,    0,    0,    0,    0,    0,    0,    0,\n",
              "           0,    0,    0,    0,    0,    0,    0,    0,    0,    0,    0,\n",
              "           0,    0,    0,    0,    0,    0,    0,    0,    0,    0,    0,\n",
              "           0,    0,    0,    0,    0,    0,    0,    0,    0,    0,    0,\n",
              "           0,    0,    0,    0,    0,    0,    0,    0,    0,    0,    0,\n",
              "           0,    0,    0,    0,    0,    0,    0,    0,    0,    0]])>"
            ]
          },
          "metadata": {},
          "execution_count": 20
        }
      ]
    },
    {
      "cell_type": "markdown",
      "source": [
        "### Design the Model (1 point)"
      ],
      "metadata": {
        "id": "FRJ7VObso2-r"
      }
    },
    {
      "cell_type": "code",
      "source": [
        "max_tokens = 7900\n",
        "inputs = keras.Input(shape=(1,), dtype=tf.string)\n",
        "\n",
        "# text vectorization layer\n",
        "txt_vec_out = text_vectorization(inputs)\n",
        "\n",
        "# embedding layer\n",
        "embedded = layers.Embedding(input_dim=max_tokens, output_dim=256, name='embedding')(txt_vec_out)\n",
        "\n",
        "# dense layers\n",
        "x = layers.Dense(256, activation='relu')(embedded)\n",
        "x = layers.Dense(128, activation='relu')(x)\n",
        "x = layers.Dropout(0.5)(x)\n",
        "x = layers.Dense(32, activation='relu')(x)\n",
        "x = layers.Dropout(0.3)(x)\n",
        "outputs = layers.Dense(1, activation='sigmoid')(x)\n",
        "\n",
        "model = Model(inputs, outputs)"
      ],
      "metadata": {
        "id": "tLAuVrUNp00h"
      },
      "execution_count": null,
      "outputs": []
    },
    {
      "cell_type": "code",
      "source": [
        "model.compile(optimizer='adam', loss='binary_crossentropy', metrics=['accuracy'])"
      ],
      "metadata": {
        "id": "qBZzIdYeAMs8"
      },
      "execution_count": null,
      "outputs": []
    },
    {
      "cell_type": "code",
      "source": [
        "model.summary()"
      ],
      "metadata": {
        "colab": {
          "base_uri": "https://localhost:8080/",
          "height": 433
        },
        "id": "L3oA_O5s_vee",
        "outputId": "cca3efb2-10e2-4f5f-e281-f5a7681ba83f",
        "collapsed": true
      },
      "execution_count": null,
      "outputs": [
        {
          "output_type": "display_data",
          "data": {
            "text/plain": [
              "\u001b[1mModel: \"functional\"\u001b[0m\n"
            ],
            "text/html": [
              "<pre style=\"white-space:pre;overflow-x:auto;line-height:normal;font-family:Menlo,'DejaVu Sans Mono',consolas,'Courier New',monospace\"><span style=\"font-weight: bold\">Model: \"functional\"</span>\n",
              "</pre>\n"
            ]
          },
          "metadata": {}
        },
        {
          "output_type": "display_data",
          "data": {
            "text/plain": [
              "┏━━━━━━━━━━━━━━━━━━━━━━━━━━━━━━━━━━━━━━┳━━━━━━━━━━━━━━━━━━━━━━━━━━━━━┳━━━━━━━━━━━━━━━━━┓\n",
              "┃\u001b[1m \u001b[0m\u001b[1mLayer (type)                        \u001b[0m\u001b[1m \u001b[0m┃\u001b[1m \u001b[0m\u001b[1mOutput Shape               \u001b[0m\u001b[1m \u001b[0m┃\u001b[1m \u001b[0m\u001b[1m        Param #\u001b[0m\u001b[1m \u001b[0m┃\n",
              "┡━━━━━━━━━━━━━━━━━━━━━━━━━━━━━━━━━━━━━━╇━━━━━━━━━━━━━━━━━━━━━━━━━━━━━╇━━━━━━━━━━━━━━━━━┩\n",
              "│ input_layer (\u001b[38;5;33mInputLayer\u001b[0m)             │ (\u001b[38;5;45mNone\u001b[0m, \u001b[38;5;34m1\u001b[0m)                   │               \u001b[38;5;34m0\u001b[0m │\n",
              "├──────────────────────────────────────┼─────────────────────────────┼─────────────────┤\n",
              "│ text_vectorization                   │ (\u001b[38;5;45mNone\u001b[0m, \u001b[38;5;34m1000\u001b[0m)                │               \u001b[38;5;34m0\u001b[0m │\n",
              "│ (\u001b[38;5;33mTextVectorization\u001b[0m)                  │                             │                 │\n",
              "├──────────────────────────────────────┼─────────────────────────────┼─────────────────┤\n",
              "│ embedding (\u001b[38;5;33mEmbedding\u001b[0m)                │ (\u001b[38;5;45mNone\u001b[0m, \u001b[38;5;34m1000\u001b[0m, \u001b[38;5;34m256\u001b[0m)           │       \u001b[38;5;34m2,022,400\u001b[0m │\n",
              "├──────────────────────────────────────┼─────────────────────────────┼─────────────────┤\n",
              "│ dense (\u001b[38;5;33mDense\u001b[0m)                        │ (\u001b[38;5;45mNone\u001b[0m, \u001b[38;5;34m1000\u001b[0m, \u001b[38;5;34m256\u001b[0m)           │          \u001b[38;5;34m65,792\u001b[0m │\n",
              "├──────────────────────────────────────┼─────────────────────────────┼─────────────────┤\n",
              "│ dense_1 (\u001b[38;5;33mDense\u001b[0m)                      │ (\u001b[38;5;45mNone\u001b[0m, \u001b[38;5;34m1000\u001b[0m, \u001b[38;5;34m128\u001b[0m)           │          \u001b[38;5;34m32,896\u001b[0m │\n",
              "├──────────────────────────────────────┼─────────────────────────────┼─────────────────┤\n",
              "│ dropout (\u001b[38;5;33mDropout\u001b[0m)                    │ (\u001b[38;5;45mNone\u001b[0m, \u001b[38;5;34m1000\u001b[0m, \u001b[38;5;34m128\u001b[0m)           │               \u001b[38;5;34m0\u001b[0m │\n",
              "├──────────────────────────────────────┼─────────────────────────────┼─────────────────┤\n",
              "│ dense_2 (\u001b[38;5;33mDense\u001b[0m)                      │ (\u001b[38;5;45mNone\u001b[0m, \u001b[38;5;34m1000\u001b[0m, \u001b[38;5;34m32\u001b[0m)            │           \u001b[38;5;34m4,128\u001b[0m │\n",
              "├──────────────────────────────────────┼─────────────────────────────┼─────────────────┤\n",
              "│ dropout_1 (\u001b[38;5;33mDropout\u001b[0m)                  │ (\u001b[38;5;45mNone\u001b[0m, \u001b[38;5;34m1000\u001b[0m, \u001b[38;5;34m32\u001b[0m)            │               \u001b[38;5;34m0\u001b[0m │\n",
              "├──────────────────────────────────────┼─────────────────────────────┼─────────────────┤\n",
              "│ dense_3 (\u001b[38;5;33mDense\u001b[0m)                      │ (\u001b[38;5;45mNone\u001b[0m, \u001b[38;5;34m1000\u001b[0m, \u001b[38;5;34m1\u001b[0m)             │              \u001b[38;5;34m33\u001b[0m │\n",
              "└──────────────────────────────────────┴─────────────────────────────┴─────────────────┘\n"
            ],
            "text/html": [
              "<pre style=\"white-space:pre;overflow-x:auto;line-height:normal;font-family:Menlo,'DejaVu Sans Mono',consolas,'Courier New',monospace\">┏━━━━━━━━━━━━━━━━━━━━━━━━━━━━━━━━━━━━━━┳━━━━━━━━━━━━━━━━━━━━━━━━━━━━━┳━━━━━━━━━━━━━━━━━┓\n",
              "┃<span style=\"font-weight: bold\"> Layer (type)                         </span>┃<span style=\"font-weight: bold\"> Output Shape                </span>┃<span style=\"font-weight: bold\">         Param # </span>┃\n",
              "┡━━━━━━━━━━━━━━━━━━━━━━━━━━━━━━━━━━━━━━╇━━━━━━━━━━━━━━━━━━━━━━━━━━━━━╇━━━━━━━━━━━━━━━━━┩\n",
              "│ input_layer (<span style=\"color: #0087ff; text-decoration-color: #0087ff\">InputLayer</span>)             │ (<span style=\"color: #00d7ff; text-decoration-color: #00d7ff\">None</span>, <span style=\"color: #00af00; text-decoration-color: #00af00\">1</span>)                   │               <span style=\"color: #00af00; text-decoration-color: #00af00\">0</span> │\n",
              "├──────────────────────────────────────┼─────────────────────────────┼─────────────────┤\n",
              "│ text_vectorization                   │ (<span style=\"color: #00d7ff; text-decoration-color: #00d7ff\">None</span>, <span style=\"color: #00af00; text-decoration-color: #00af00\">1000</span>)                │               <span style=\"color: #00af00; text-decoration-color: #00af00\">0</span> │\n",
              "│ (<span style=\"color: #0087ff; text-decoration-color: #0087ff\">TextVectorization</span>)                  │                             │                 │\n",
              "├──────────────────────────────────────┼─────────────────────────────┼─────────────────┤\n",
              "│ embedding (<span style=\"color: #0087ff; text-decoration-color: #0087ff\">Embedding</span>)                │ (<span style=\"color: #00d7ff; text-decoration-color: #00d7ff\">None</span>, <span style=\"color: #00af00; text-decoration-color: #00af00\">1000</span>, <span style=\"color: #00af00; text-decoration-color: #00af00\">256</span>)           │       <span style=\"color: #00af00; text-decoration-color: #00af00\">2,022,400</span> │\n",
              "├──────────────────────────────────────┼─────────────────────────────┼─────────────────┤\n",
              "│ dense (<span style=\"color: #0087ff; text-decoration-color: #0087ff\">Dense</span>)                        │ (<span style=\"color: #00d7ff; text-decoration-color: #00d7ff\">None</span>, <span style=\"color: #00af00; text-decoration-color: #00af00\">1000</span>, <span style=\"color: #00af00; text-decoration-color: #00af00\">256</span>)           │          <span style=\"color: #00af00; text-decoration-color: #00af00\">65,792</span> │\n",
              "├──────────────────────────────────────┼─────────────────────────────┼─────────────────┤\n",
              "│ dense_1 (<span style=\"color: #0087ff; text-decoration-color: #0087ff\">Dense</span>)                      │ (<span style=\"color: #00d7ff; text-decoration-color: #00d7ff\">None</span>, <span style=\"color: #00af00; text-decoration-color: #00af00\">1000</span>, <span style=\"color: #00af00; text-decoration-color: #00af00\">128</span>)           │          <span style=\"color: #00af00; text-decoration-color: #00af00\">32,896</span> │\n",
              "├──────────────────────────────────────┼─────────────────────────────┼─────────────────┤\n",
              "│ dropout (<span style=\"color: #0087ff; text-decoration-color: #0087ff\">Dropout</span>)                    │ (<span style=\"color: #00d7ff; text-decoration-color: #00d7ff\">None</span>, <span style=\"color: #00af00; text-decoration-color: #00af00\">1000</span>, <span style=\"color: #00af00; text-decoration-color: #00af00\">128</span>)           │               <span style=\"color: #00af00; text-decoration-color: #00af00\">0</span> │\n",
              "├──────────────────────────────────────┼─────────────────────────────┼─────────────────┤\n",
              "│ dense_2 (<span style=\"color: #0087ff; text-decoration-color: #0087ff\">Dense</span>)                      │ (<span style=\"color: #00d7ff; text-decoration-color: #00d7ff\">None</span>, <span style=\"color: #00af00; text-decoration-color: #00af00\">1000</span>, <span style=\"color: #00af00; text-decoration-color: #00af00\">32</span>)            │           <span style=\"color: #00af00; text-decoration-color: #00af00\">4,128</span> │\n",
              "├──────────────────────────────────────┼─────────────────────────────┼─────────────────┤\n",
              "│ dropout_1 (<span style=\"color: #0087ff; text-decoration-color: #0087ff\">Dropout</span>)                  │ (<span style=\"color: #00d7ff; text-decoration-color: #00d7ff\">None</span>, <span style=\"color: #00af00; text-decoration-color: #00af00\">1000</span>, <span style=\"color: #00af00; text-decoration-color: #00af00\">32</span>)            │               <span style=\"color: #00af00; text-decoration-color: #00af00\">0</span> │\n",
              "├──────────────────────────────────────┼─────────────────────────────┼─────────────────┤\n",
              "│ dense_3 (<span style=\"color: #0087ff; text-decoration-color: #0087ff\">Dense</span>)                      │ (<span style=\"color: #00d7ff; text-decoration-color: #00d7ff\">None</span>, <span style=\"color: #00af00; text-decoration-color: #00af00\">1000</span>, <span style=\"color: #00af00; text-decoration-color: #00af00\">1</span>)             │              <span style=\"color: #00af00; text-decoration-color: #00af00\">33</span> │\n",
              "└──────────────────────────────────────┴─────────────────────────────┴─────────────────┘\n",
              "</pre>\n"
            ]
          },
          "metadata": {}
        },
        {
          "output_type": "display_data",
          "data": {
            "text/plain": [
              "\u001b[1m Total params: \u001b[0m\u001b[38;5;34m2,125,249\u001b[0m (8.11 MB)\n"
            ],
            "text/html": [
              "<pre style=\"white-space:pre;overflow-x:auto;line-height:normal;font-family:Menlo,'DejaVu Sans Mono',consolas,'Courier New',monospace\"><span style=\"font-weight: bold\"> Total params: </span><span style=\"color: #00af00; text-decoration-color: #00af00\">2,125,249</span> (8.11 MB)\n",
              "</pre>\n"
            ]
          },
          "metadata": {}
        },
        {
          "output_type": "display_data",
          "data": {
            "text/plain": [
              "\u001b[1m Trainable params: \u001b[0m\u001b[38;5;34m2,125,249\u001b[0m (8.11 MB)\n"
            ],
            "text/html": [
              "<pre style=\"white-space:pre;overflow-x:auto;line-height:normal;font-family:Menlo,'DejaVu Sans Mono',consolas,'Courier New',monospace\"><span style=\"font-weight: bold\"> Trainable params: </span><span style=\"color: #00af00; text-decoration-color: #00af00\">2,125,249</span> (8.11 MB)\n",
              "</pre>\n"
            ]
          },
          "metadata": {}
        },
        {
          "output_type": "display_data",
          "data": {
            "text/plain": [
              "\u001b[1m Non-trainable params: \u001b[0m\u001b[38;5;34m0\u001b[0m (0.00 B)\n"
            ],
            "text/html": [
              "<pre style=\"white-space:pre;overflow-x:auto;line-height:normal;font-family:Menlo,'DejaVu Sans Mono',consolas,'Courier New',monospace\"><span style=\"font-weight: bold\"> Non-trainable params: </span><span style=\"color: #00af00; text-decoration-color: #00af00\">0</span> (0.00 B)\n",
              "</pre>\n"
            ]
          },
          "metadata": {}
        }
      ]
    },
    {
      "cell_type": "markdown",
      "source": [
        "### Extract the Embeddings before Training (1 point)"
      ],
      "metadata": {
        "id": "Nvz89l9Go7fX"
      }
    },
    {
      "cell_type": "code",
      "source": [
        "# Get the vocabulary from the TextVectorization layer\n",
        "vocab = text_vectorization.get_vocabulary()\n",
        "print(len(vocab))\n",
        "\n",
        "# Get the embedding layer\n",
        "embedding_layer = model.get_layer('embedding')\n",
        "\n",
        "# Get the embeddings\n",
        "embeddings = embedding_layer.get_weights()[0]\n",
        "embeddings.shape"
      ],
      "metadata": {
        "id": "HMMt6Tb8p1Rp",
        "colab": {
          "base_uri": "https://localhost:8080/"
        },
        "outputId": "e1f8c0ec-f851-47da-f583-aef5ef6ab7bc"
      },
      "execution_count": null,
      "outputs": [
        {
          "output_type": "stream",
          "name": "stdout",
          "text": [
            "7900\n"
          ]
        },
        {
          "output_type": "execute_result",
          "data": {
            "text/plain": [
              "(7900, 256)"
            ]
          },
          "metadata": {},
          "execution_count": 24
        }
      ]
    },
    {
      "cell_type": "code",
      "source": [
        "def case_to_lower(txt):\n",
        "    \"\"\"Normalizing the case to lower case\"\"\"\n",
        "    text = [twt.lower() for twt in txt]\n",
        "    return text"
      ],
      "metadata": {
        "id": "KkmD_JG86MYj"
      },
      "execution_count": null,
      "outputs": []
    },
    {
      "cell_type": "code",
      "source": [
        "def rem_spec_char(txt):\n",
        "    \"\"\"Removing Special Characters\"\"\"\n",
        "    text = [re.sub('[^a-zA-Z0-9]', ' ', txt_c) for txt_c in txt]\n",
        "    return text"
      ],
      "metadata": {
        "id": "f3ldeD66BfHG"
      },
      "execution_count": null,
      "outputs": []
    },
    {
      "cell_type": "code",
      "source": [
        "test_str = X_train.values"
      ],
      "metadata": {
        "id": "sD2uSXmb8FvQ"
      },
      "execution_count": null,
      "outputs": []
    },
    {
      "cell_type": "code",
      "source": [
        "test_ls = case_to_lower(test_str)\n",
        "test_ls_1 = rem_spec_char(test_ls)\n",
        "# tokenize using Tweet Tokenizer from NLTK\n",
        "tkn = TweetTokenizer()\n",
        "\n",
        "test_words = [tkn.tokenize(sent) for sent in test_ls_1]\n",
        "print(test_words[0])"
      ],
      "metadata": {
        "colab": {
          "base_uri": "https://localhost:8080/"
        },
        "id": "7cI3r3CeBynz",
        "outputId": "260fda82-a9a9-4a05-9131-37110389b359"
      },
      "execution_count": null,
      "outputs": [
        {
          "output_type": "stream",
          "name": "stdout",
          "text": [
            "['go', 'until', 'jurong', 'point', 'crazy', 'available', 'only', 'in', 'bugis', 'n', 'great', 'world', 'la', 'e', 'buffet', 'cine', 'there', 'got', 'amore', 'wat']\n"
          ]
        }
      ]
    },
    {
      "cell_type": "code",
      "source": [
        "pca = PCA(n_components=2, random_state=42)\n",
        "\n",
        "# Fit and transform the vectors using PCA model\n",
        "reduced_untrained_emb = pca.fit_transform(embeddings)\n",
        "reduced_untrained_emb.shape"
      ],
      "metadata": {
        "colab": {
          "base_uri": "https://localhost:8080/"
        },
        "id": "RjPGFsMD-FId",
        "outputId": "d1604ce8-0369-41f3-81b1-42b9414b9bc6"
      },
      "execution_count": null,
      "outputs": [
        {
          "output_type": "execute_result",
          "data": {
            "text/plain": [
              "(7900, 2)"
            ]
          },
          "metadata": {},
          "execution_count": 29
        }
      ]
    },
    {
      "cell_type": "code",
      "source": [
        "# Visualize the embeddings before model training\n",
        "\n",
        "plt.figure(figsize=(10, 8))\n",
        "for word in test_words[0]:\n",
        "    if word != '':  # Skip the empty string token\n",
        "        x, y = reduced_untrained_emb[vocab.index(word)]\n",
        "        plt.scatter(x, y)\n",
        "        plt.annotate(word, (x, y), xytext=(5, 2), textcoords='offset points')\n",
        "\n",
        "# plt.annotate(word, (x, y), xytext=(5, 2), textcoords='offset points')\n",
        "plt.title(\"Word Embeddings Visualization (Before training)\")\n",
        "plt.xlabel(\"Dimension 1\")\n",
        "plt.ylabel(\"Dimension 2\")\n",
        "plt.tight_layout()\n",
        "plt.show()"
      ],
      "metadata": {
        "colab": {
          "base_uri": "https://localhost:8080/",
          "height": 754
        },
        "id": "QLah-UhM9rOc",
        "outputId": "44aa7a7e-8fa3-4ced-ced1-b561e2cbb884"
      },
      "execution_count": null,
      "outputs": [
        {
          "output_type": "display_data",
          "data": {
            "text/plain": [
              "<Figure size 1000x800 with 1 Axes>"
            ],
            "image/png": "[encoded data removed]"
          },
          "metadata": {}
        }
      ]
    },
    {
      "cell_type": "markdown",
      "source": [
        "### Train the Model (1 point)"
      ],
      "metadata": {
        "id": "pKoHAGeepHPU"
      }
    },
    {
      "cell_type": "code",
      "source": [
        "# Fit the model on train set\n",
        "callbacks = [keras.callbacks.ModelCheckpoint(\"one_hot_dense.keras\", save_best_only=True)]\n",
        "\n",
        "history = model.fit(X_train, y_train,epochs=10,batch_size=32,\n",
        "                    validation_data=(X_val, y_val), callbacks=callbacks)\n"
      ],
      "metadata": {
        "id": "ELAYEqN6p1q7",
        "colab": {
          "base_uri": "https://localhost:8080/"
        },
        "outputId": "a021440c-3f82-4063-f886-90316866e925"
      },
      "execution_count": null,
      "outputs": [
        {
          "output_type": "stream",
          "name": "stdout",
          "text": [
            "Epoch 1/10\n",
            "\u001b[1m125/125\u001b[0m \u001b[32m━━━━━━━━━━━━━━━━━━━━\u001b[0m\u001b[37m\u001b[0m \u001b[1m100s\u001b[0m 770ms/step - accuracy: 0.8432 - loss: 0.4540 - val_accuracy: 0.8619 - val_loss: 0.4049\n",
            "Epoch 2/10\n",
            "\u001b[1m125/125\u001b[0m \u001b[32m━━━━━━━━━━━━━━━━━━━━\u001b[0m\u001b[37m\u001b[0m \u001b[1m141s\u001b[0m 773ms/step - accuracy: 0.8604 - loss: 0.4219 - val_accuracy: 0.8622 - val_loss: 0.4172\n",
            "Epoch 3/10\n",
            "\u001b[1m125/125\u001b[0m \u001b[32m━━━━━━━━━━━━━━━━━━━━\u001b[0m\u001b[37m\u001b[0m \u001b[1m135s\u001b[0m 717ms/step - accuracy: 0.8599 - loss: 0.4203 - val_accuracy: 0.8623 - val_loss: 0.4036\n",
            "Epoch 4/10\n",
            "\u001b[1m125/125\u001b[0m \u001b[32m━━━━━━━━━━━━━━━━━━━━\u001b[0m\u001b[37m\u001b[0m \u001b[1m91s\u001b[0m 727ms/step - accuracy: 0.8633 - loss: 0.4119 - val_accuracy: 0.8623 - val_loss: 0.4191\n",
            "Epoch 5/10\n",
            "\u001b[1m125/125\u001b[0m \u001b[32m━━━━━━━━━━━━━━━━━━━━\u001b[0m\u001b[37m\u001b[0m \u001b[1m98s\u001b[0m 778ms/step - accuracy: 0.8751 - loss: 0.3883 - val_accuracy: 0.8623 - val_loss: 0.4041\n",
            "Epoch 6/10\n",
            "\u001b[1m125/125\u001b[0m \u001b[32m━━━━━━━━━━━━━━━━━━━━\u001b[0m\u001b[37m\u001b[0m \u001b[1m136s\u001b[0m 736ms/step - accuracy: 0.8646 - loss: 0.4093 - val_accuracy: 0.8623 - val_loss: 0.4049\n",
            "Epoch 7/10\n",
            "\u001b[1m125/125\u001b[0m \u001b[32m━━━━━━━━━━━━━━━━━━━━\u001b[0m\u001b[37m\u001b[0m \u001b[1m146s\u001b[0m 769ms/step - accuracy: 0.8625 - loss: 0.4095 - val_accuracy: 0.8623 - val_loss: 0.4232\n",
            "Epoch 8/10\n",
            "\u001b[1m125/125\u001b[0m \u001b[32m━━━━━━━━━━━━━━━━━━━━\u001b[0m\u001b[37m\u001b[0m \u001b[1m102s\u001b[0m 819ms/step - accuracy: 0.8685 - loss: 0.4033 - val_accuracy: 0.8623 - val_loss: 0.4063\n",
            "Epoch 9/10\n",
            "\u001b[1m125/125\u001b[0m \u001b[32m━━━━━━━━━━━━━━━━━━━━\u001b[0m\u001b[37m\u001b[0m \u001b[1m133s\u001b[0m 746ms/step - accuracy: 0.8659 - loss: 0.4015 - val_accuracy: 0.8623 - val_loss: 0.4035\n",
            "Epoch 10/10\n",
            "\u001b[1m125/125\u001b[0m \u001b[32m━━━━━━━━━━━━━━━━━━━━\u001b[0m\u001b[37m\u001b[0m \u001b[1m132s\u001b[0m 671ms/step - accuracy: 0.8668 - loss: 0.3994 - val_accuracy: 0.8623 - val_loss: 0.4032\n"
          ]
        }
      ]
    },
    {
      "cell_type": "markdown",
      "source": [
        "### During Training Collect the loss and Metrics of Train and Validation. Plot the Metrics after Training (1 point)"
      ],
      "metadata": {
        "id": "Mrrs6ZxrpLE5"
      }
    },
    {
      "cell_type": "code",
      "source": [
        "plt.plot(history.history['loss'])\n",
        "plt.plot(history.history['val_loss'])\n",
        "plt.title('model loss')\n",
        "plt.ylabel('loss')\n",
        "plt.xlabel('epoch')\n",
        "plt.legend(['train', 'validation'], loc='upper left')\n",
        "plt.show()"
      ],
      "metadata": {
        "id": "AQdOUt0Ap2S8",
        "colab": {
          "base_uri": "https://localhost:8080/",
          "height": 472
        },
        "outputId": "8963120c-3f7c-40a0-e673-2e3d50c7cddc"
      },
      "execution_count": null,
      "outputs": [
        {
          "output_type": "display_data",
          "data": {
            "text/plain": [
              "<Figure size 640x480 with 1 Axes>"
            ],
            "image/png": "[encoded data removed]"
          },
          "metadata": {}
        }
      ]
    },
    {
      "cell_type": "markdown",
      "source": [
        "### Calculate and Display the Test Performance (1 point)"
      ],
      "metadata": {
        "id": "m5yaxttjpaeu"
      }
    },
    {
      "cell_type": "code",
      "source": [
        "## Load saved model\n",
        "model = keras.models.load_model(\"one_hot_dense.keras\")\n",
        "\n",
        "\n",
        "# evaluate model on 'test_dataset'\n",
        "model.evaluate(X_test, y_test)\n"
      ],
      "metadata": {
        "id": "OE9aeMVSp2zQ",
        "colab": {
          "base_uri": "https://localhost:8080/"
        },
        "outputId": "f8009ebb-7131-4029-c7b5-a1b684b569d3"
      },
      "execution_count": null,
      "outputs": [
        {
          "output_type": "stream",
          "name": "stdout",
          "text": [
            "\u001b[1m32/32\u001b[0m \u001b[32m━━━━━━━━━━━━━━━━━━━━\u001b[0m\u001b[37m\u001b[0m \u001b[1m6s\u001b[0m 168ms/step - accuracy: 0.8554 - loss: 0.4146\n"
          ]
        },
        {
          "output_type": "execute_result",
          "data": {
            "text/plain": [
              "[0.3933369815349579, 0.8676140308380127]"
            ]
          },
          "metadata": {},
          "execution_count": 33
        }
      ]
    },
    {
      "cell_type": "markdown",
      "source": [
        "### Extract the Embeddings after Training (1 point)"
      ],
      "metadata": {
        "id": "rlQPxbr0piGO"
      }
    },
    {
      "cell_type": "code",
      "source": [
        "# Get the embedding layer\n",
        "trained_embedding_layer = model.get_layer('embedding')\n",
        "\n",
        "# Get the embeddings\n",
        "trained_embeddings = trained_embedding_layer.get_weights()[0]\n",
        "trained_embeddings.shape"
      ],
      "metadata": {
        "id": "R6tV7ST7p3Jn",
        "colab": {
          "base_uri": "https://localhost:8080/"
        },
        "outputId": "c4164a9d-39c0-4909-d6cd-f8ccc5547f45"
      },
      "execution_count": null,
      "outputs": [
        {
          "output_type": "execute_result",
          "data": {
            "text/plain": [
              "(7900, 256)"
            ]
          },
          "metadata": {},
          "execution_count": 34
        }
      ]
    },
    {
      "cell_type": "markdown",
      "source": [
        "### Reduce the Embeddings using PCA (1 point)"
      ],
      "metadata": {
        "id": "Wa0AnSzcpoTL"
      }
    },
    {
      "cell_type": "code",
      "source": [
        "pca = PCA(n_components=2, random_state=42)\n",
        "\n",
        "# Fit and transform the vectors using PCA model\n",
        "# reduced_trained_emb = pca.fit_transform(embeddings)\n",
        "reduced_trained_emb = pca.fit_transform(trained_embeddings)\n",
        "reduced_trained_emb.shape"
      ],
      "metadata": {
        "id": "iFwzZwn2p3i9",
        "colab": {
          "base_uri": "https://localhost:8080/"
        },
        "outputId": "524995a5-989a-49dd-c029-a2422eb56f66"
      },
      "execution_count": null,
      "outputs": [
        {
          "output_type": "execute_result",
          "data": {
            "text/plain": [
              "(7900, 2)"
            ]
          },
          "metadata": {},
          "execution_count": 35
        }
      ]
    },
    {
      "cell_type": "markdown",
      "source": [
        "### Plot the Embeddings in 2D (1 point)"
      ],
      "metadata": {
        "id": "uX648Z6tps9Z"
      }
    },
    {
      "cell_type": "code",
      "source": [
        "# Visualize the embeddings after model training\n",
        "\n",
        "plt.figure(figsize=(10, 8))\n",
        "for word in test_words[0]:\n",
        "    if word != '':  # Skip the empty string token\n",
        "        x, y = reduced_trained_emb[vocab.index(word)]\n",
        "        plt.scatter(x, y)\n",
        "        plt.annotate(word, (x, y), xytext=(5, 2), textcoords='offset points')\n",
        "\n",
        "# plt.annotate(word, (x, y), xytext=(5, 2), textcoords='offset points')\n",
        "plt.title(\"Word Embeddings Visualization (After training)\")\n",
        "plt.xlabel(\"Dimension 1\")\n",
        "plt.ylabel(\"Dimension 2\")\n",
        "plt.tight_layout()\n",
        "plt.show()\n",
        "\n"
      ],
      "metadata": {
        "id": "9PCM0OrKp4KN",
        "colab": {
          "base_uri": "https://localhost:8080/",
          "height": 754
        },
        "outputId": "a3632b03-bb90-4ab0-fac9-d49be9edcdac"
      },
      "execution_count": null,
      "outputs": [
        {
          "output_type": "display_data",
          "data": {
            "text/plain": [
              "<Figure size 1000x800 with 1 Axes>"
            ],
            "image/png": "[encoded data removed]"
          },
          "metadata": {}
        }
      ]
    }
  ]
}